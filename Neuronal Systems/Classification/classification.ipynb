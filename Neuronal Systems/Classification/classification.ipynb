{
  "nbformat": 4,
  "nbformat_minor": 0,
  "metadata": {
    "celltoolbar": "Tags",
    "kernelspec": {
      "display_name": "Python 3",
      "language": "python",
      "name": "python3"
    },
    "language_info": {
      "codemirror_mode": {
        "name": "ipython",
        "version": 3
      },
      "file_extension": ".py",
      "mimetype": "text/x-python",
      "name": "python",
      "nbconvert_exporter": "python",
      "pygments_lexer": "ipython3",
      "version": "3.7.6"
    },
    "colab": {
      "name": "Copia de classification.ipynb",
      "provenance": [],
      "collapsed_sections": [],
      "toc_visible": true
    },
    "accelerator": "GPU",
    "widgets": {
      "application/vnd.jupyter.widget-state+json": {
        "9cf7c10480494bdebc80957b3fbed91b": {
          "model_module": "@jupyter-widgets/controls",
          "model_name": "HBoxModel",
          "state": {
            "_view_name": "HBoxView",
            "_dom_classes": [],
            "_model_name": "HBoxModel",
            "_view_module": "@jupyter-widgets/controls",
            "_model_module_version": "1.5.0",
            "_view_count": null,
            "_view_module_version": "1.5.0",
            "box_style": "",
            "layout": "IPY_MODEL_fa8dbe5488da49c28db37db39467d806",
            "_model_module": "@jupyter-widgets/controls",
            "children": [
              "IPY_MODEL_b761fc8013944c01ba46bab9a11a753b",
              "IPY_MODEL_9451b140c3e84d72b91a41240c81c023"
            ]
          }
        },
        "fa8dbe5488da49c28db37db39467d806": {
          "model_module": "@jupyter-widgets/base",
          "model_name": "LayoutModel",
          "state": {
            "_view_name": "LayoutView",
            "grid_template_rows": null,
            "right": null,
            "justify_content": null,
            "_view_module": "@jupyter-widgets/base",
            "overflow": null,
            "_model_module_version": "1.2.0",
            "_view_count": null,
            "flex_flow": null,
            "width": null,
            "min_width": null,
            "border": null,
            "align_items": null,
            "bottom": null,
            "_model_module": "@jupyter-widgets/base",
            "top": null,
            "grid_column": null,
            "overflow_y": null,
            "overflow_x": null,
            "grid_auto_flow": null,
            "grid_area": null,
            "grid_template_columns": null,
            "flex": null,
            "_model_name": "LayoutModel",
            "justify_items": null,
            "grid_row": null,
            "max_height": null,
            "align_content": null,
            "visibility": null,
            "align_self": null,
            "height": null,
            "min_height": null,
            "padding": null,
            "grid_auto_rows": null,
            "grid_gap": null,
            "max_width": null,
            "order": null,
            "_view_module_version": "1.2.0",
            "grid_template_areas": null,
            "object_position": null,
            "object_fit": null,
            "grid_auto_columns": null,
            "margin": null,
            "display": null,
            "left": null
          }
        },
        "b761fc8013944c01ba46bab9a11a753b": {
          "model_module": "@jupyter-widgets/controls",
          "model_name": "FloatProgressModel",
          "state": {
            "_view_name": "ProgressView",
            "style": "IPY_MODEL_f137f1b85df24b77a679c5f8a6884a70",
            "_dom_classes": [],
            "description": "",
            "_model_name": "FloatProgressModel",
            "bar_style": "success",
            "max": 1,
            "_view_module": "@jupyter-widgets/controls",
            "_model_module_version": "1.5.0",
            "value": 1,
            "_view_count": null,
            "_view_module_version": "1.5.0",
            "orientation": "horizontal",
            "min": 0,
            "description_tooltip": null,
            "_model_module": "@jupyter-widgets/controls",
            "layout": "IPY_MODEL_7d8938209e3c4945b0dd881124cc0ed3"
          }
        },
        "9451b140c3e84d72b91a41240c81c023": {
          "model_module": "@jupyter-widgets/controls",
          "model_name": "HTMLModel",
          "state": {
            "_view_name": "HTMLView",
            "style": "IPY_MODEL_0c3ec0091c654b96a15478d4d725fb76",
            "_dom_classes": [],
            "description": "",
            "_model_name": "HTMLModel",
            "placeholder": "​",
            "_view_module": "@jupyter-widgets/controls",
            "_model_module_version": "1.5.0",
            "value": " 170500096/? [00:07&lt;00:00, 22942302.50it/s]",
            "_view_count": null,
            "_view_module_version": "1.5.0",
            "description_tooltip": null,
            "_model_module": "@jupyter-widgets/controls",
            "layout": "IPY_MODEL_2c0e898c14c8441abdef461c97a72267"
          }
        },
        "f137f1b85df24b77a679c5f8a6884a70": {
          "model_module": "@jupyter-widgets/controls",
          "model_name": "ProgressStyleModel",
          "state": {
            "_view_name": "StyleView",
            "_model_name": "ProgressStyleModel",
            "description_width": "initial",
            "_view_module": "@jupyter-widgets/base",
            "_model_module_version": "1.5.0",
            "_view_count": null,
            "_view_module_version": "1.2.0",
            "bar_color": null,
            "_model_module": "@jupyter-widgets/controls"
          }
        },
        "7d8938209e3c4945b0dd881124cc0ed3": {
          "model_module": "@jupyter-widgets/base",
          "model_name": "LayoutModel",
          "state": {
            "_view_name": "LayoutView",
            "grid_template_rows": null,
            "right": null,
            "justify_content": null,
            "_view_module": "@jupyter-widgets/base",
            "overflow": null,
            "_model_module_version": "1.2.0",
            "_view_count": null,
            "flex_flow": null,
            "width": null,
            "min_width": null,
            "border": null,
            "align_items": null,
            "bottom": null,
            "_model_module": "@jupyter-widgets/base",
            "top": null,
            "grid_column": null,
            "overflow_y": null,
            "overflow_x": null,
            "grid_auto_flow": null,
            "grid_area": null,
            "grid_template_columns": null,
            "flex": null,
            "_model_name": "LayoutModel",
            "justify_items": null,
            "grid_row": null,
            "max_height": null,
            "align_content": null,
            "visibility": null,
            "align_self": null,
            "height": null,
            "min_height": null,
            "padding": null,
            "grid_auto_rows": null,
            "grid_gap": null,
            "max_width": null,
            "order": null,
            "_view_module_version": "1.2.0",
            "grid_template_areas": null,
            "object_position": null,
            "object_fit": null,
            "grid_auto_columns": null,
            "margin": null,
            "display": null,
            "left": null
          }
        },
        "0c3ec0091c654b96a15478d4d725fb76": {
          "model_module": "@jupyter-widgets/controls",
          "model_name": "DescriptionStyleModel",
          "state": {
            "_view_name": "StyleView",
            "_model_name": "DescriptionStyleModel",
            "description_width": "",
            "_view_module": "@jupyter-widgets/base",
            "_model_module_version": "1.5.0",
            "_view_count": null,
            "_view_module_version": "1.2.0",
            "_model_module": "@jupyter-widgets/controls"
          }
        },
        "2c0e898c14c8441abdef461c97a72267": {
          "model_module": "@jupyter-widgets/base",
          "model_name": "LayoutModel",
          "state": {
            "_view_name": "LayoutView",
            "grid_template_rows": null,
            "right": null,
            "justify_content": null,
            "_view_module": "@jupyter-widgets/base",
            "overflow": null,
            "_model_module_version": "1.2.0",
            "_view_count": null,
            "flex_flow": null,
            "width": null,
            "min_width": null,
            "border": null,
            "align_items": null,
            "bottom": null,
            "_model_module": "@jupyter-widgets/base",
            "top": null,
            "grid_column": null,
            "overflow_y": null,
            "overflow_x": null,
            "grid_auto_flow": null,
            "grid_area": null,
            "grid_template_columns": null,
            "flex": null,
            "_model_name": "LayoutModel",
            "justify_items": null,
            "grid_row": null,
            "max_height": null,
            "align_content": null,
            "visibility": null,
            "align_self": null,
            "height": null,
            "min_height": null,
            "padding": null,
            "grid_auto_rows": null,
            "grid_gap": null,
            "max_width": null,
            "order": null,
            "_view_module_version": "1.2.0",
            "grid_template_areas": null,
            "object_position": null,
            "object_fit": null,
            "grid_auto_columns": null,
            "margin": null,
            "display": null,
            "left": null
          }
        }
      }
    }
  },
  "cells": [
    {
      "cell_type": "markdown",
      "metadata": {
        "id": "UesLq2Mod_xF"
      },
      "source": [
        "# **CNN Image Classification**\n",
        "\n",
        "In this exercise, we will classify images with different kinds of CNNs and different learning algorithms. Then we will compare the classification performance attained with the different variants."
      ]
    },
    {
      "cell_type": "markdown",
      "metadata": {
        "id": "LcvLzoILeVGA"
      },
      "source": [
        "Load the libraries, set the graphics to be plotted within the Jupyter notebook and fix the random seed to ensure the reproducibility of the results"
      ]
    },
    {
      "cell_type": "code",
      "metadata": {
        "id": "oVA-sS5xd6ra",
        "colab": {
          "base_uri": "https://localhost:8080/"
        },
        "outputId": "4899387b-1845-4dfd-ee84-e34e0ecff56c"
      },
      "source": [
        "%matplotlib inline\n",
        "import os\n",
        "import time\n",
        "import datetime\n",
        "import collections\n",
        "\n",
        "from matplotlib import pyplot as plt\n",
        "import numpy as np\n",
        "\n",
        "import torch\n",
        "import torch.nn as nn\n",
        "import torch.nn.functional as F\n",
        "import torch.optim as optim\n",
        "\n",
        "from torchvision import datasets, transforms\n",
        "\n",
        "torch.set_printoptions(edgeitems=2)\n",
        "torch.manual_seed(123)"
      ],
      "execution_count": 1,
      "outputs": [
        {
          "output_type": "execute_result",
          "data": {
            "text/plain": [
              "<torch._C.Generator at 0x7f3589cd7430>"
            ]
          },
          "metadata": {
            "tags": []
          },
          "execution_count": 1
        }
      ]
    },
    {
      "cell_type": "markdown",
      "metadata": {
        "id": "tleFbSpgfZzF"
      },
      "source": [
        "## **Data**\r\n",
        "\r\n",
        "Establish the 10 classes that are available in the CIFAR10 dataset, see https://www.cs.toronto.edu/~kriz/cifar.html"
      ]
    },
    {
      "cell_type": "code",
      "metadata": {
        "id": "ZhQpLYJYd6re"
      },
      "source": [
        "class_names = ['airplane','automobile','bird','cat','deer', \n",
        "               'dog','frog','horse','ship','truck']"
      ],
      "execution_count": 2,
      "outputs": []
    },
    {
      "cell_type": "markdown",
      "metadata": {
        "id": "Ireg983Qfp_q"
      },
      "source": [
        "Download the training data for the CIFAR10 dataset, upzip it to the virtual \n",
        "folder ../data-unversioned/p1ch6/ and store it as the `cifar10` variable"
      ]
    },
    {
      "cell_type": "code",
      "metadata": {
        "id": "alkUMvOXd6ri",
        "colab": {
          "base_uri": "https://localhost:8080/",
          "height": 86,
          "referenced_widgets": [
            "9cf7c10480494bdebc80957b3fbed91b",
            "fa8dbe5488da49c28db37db39467d806",
            "b761fc8013944c01ba46bab9a11a753b",
            "9451b140c3e84d72b91a41240c81c023",
            "f137f1b85df24b77a679c5f8a6884a70",
            "7d8938209e3c4945b0dd881124cc0ed3",
            "0c3ec0091c654b96a15478d4d725fb76",
            "2c0e898c14c8441abdef461c97a72267"
          ]
        },
        "outputId": "7dc80f11-ddb7-4259-bddc-4485114cbacc"
      },
      "source": [
        "data_path = '../data-unversioned/p1ch6/'\n",
        "cifar10 = datasets.CIFAR10(\n",
        "    data_path,\n",
        "    train=True,\n",
        "    download=True,\n",
        "    transform=transforms.Compose(\n",
        "        [transforms.ToTensor(),\n",
        "         transforms.Normalize((0.4915, 0.4823, 0.4468),\n",
        "                              (0.2470, 0.2435, 0.2616))]\n",
        "                              )\n",
        "    )"
      ],
      "execution_count": 3,
      "outputs": [
        {
          "output_type": "stream",
          "text": [
            "Downloading https://www.cs.toronto.edu/~kriz/cifar-10-python.tar.gz to ../data-unversioned/p1ch6/cifar-10-python.tar.gz\n"
          ],
          "name": "stdout"
        },
        {
          "output_type": "display_data",
          "data": {
            "application/vnd.jupyter.widget-view+json": {
              "model_id": "9cf7c10480494bdebc80957b3fbed91b",
              "version_minor": 0,
              "version_major": 2
            },
            "text/plain": [
              "HBox(children=(FloatProgress(value=1.0, bar_style='info', max=1.0), HTML(value='')))"
            ]
          },
          "metadata": {
            "tags": []
          }
        },
        {
          "output_type": "stream",
          "text": [
            "Extracting ../data-unversioned/p1ch6/cifar-10-python.tar.gz to ../data-unversioned/p1ch6/\n"
          ],
          "name": "stdout"
        }
      ]
    },
    {
      "cell_type": "markdown",
      "metadata": {
        "id": "H59KggYXgXDl"
      },
      "source": [
        "Download the validation data for the CIFAR10 dataset, upzip it to the virtual \n",
        "folder ../data-unversioned/p1ch6/ and store it as the `cifar10_val` variable"
      ]
    },
    {
      "cell_type": "code",
      "metadata": {
        "id": "ld-Qegk6d6rl",
        "colab": {
          "base_uri": "https://localhost:8080/"
        },
        "outputId": "6daacefb-e547-4ad9-b751-55c0f2c93516"
      },
      "source": [
        "cifar10_val = datasets.CIFAR10(\n",
        "    data_path,\n",
        "    train=False,\n",
        "    download=True,\n",
        "    transform=transforms.Compose(\n",
        "        [transforms.ToTensor(),\n",
        "         transforms.Normalize((0.4915, 0.4823, 0.4468),\n",
        "                              (0.2470, 0.2435, 0.2616))]\n",
        "                              )\n",
        "    )"
      ],
      "execution_count": 4,
      "outputs": [
        {
          "output_type": "stream",
          "text": [
            "Files already downloaded and verified\n"
          ],
          "name": "stdout"
        }
      ]
    },
    {
      "cell_type": "markdown",
      "metadata": {
        "id": "JTi0SOX4gri6"
      },
      "source": [
        "Select the classes that the CNN will classify, namely the **cat** (index 3), the **dog** (index 5) and **horse** (index 7) classes\n",
        "\n",
        "Then extract a subset of the full training CIFAR10 dataset which contains the training samples of those three classes into the `cifar3` variable, and a subset of the full validation CIFAR10 dataset with the validation samples of these three classes into the `cifar3_val` variable"
      ]
    },
    {
      "cell_type": "code",
      "metadata": {
        "id": "Qpqc4xl2d6ro",
        "colab": {
          "base_uri": "https://localhost:8080/"
        },
        "outputId": "46bb9205-0d6c-41b5-c370-fd1c1e7a1b56"
      },
      "source": [
        "# classes we are going to use\n",
        "class_names = ['cat', 'dog', 'horse']\n",
        "# map from old labels to new labels\n",
        "label_map = {3: 0, 5: 1, 7: 2}\n",
        "# get only the classes we want and relabel them\n",
        "cifar3 = [(img, label_map[label]) for img, label in cifar10 if label in label_map]\n",
        "cifar3_val = [(img, label_map[label]) for img, label in cifar10_val if label in label_map]"
      ],
      "execution_count": 5,
      "outputs": [
        {
          "output_type": "stream",
          "text": [
            "\n"
          ],
          "name": "stdout"
        }
      ]
    },
    {
      "cell_type": "markdown",
      "metadata": {
        "id": "fN5IcIv0prBt"
      },
      "source": [
        "Now lets see some examples of the subset we just created."
      ]
    },
    {
      "cell_type": "code",
      "metadata": {
        "colab": {
          "base_uri": "https://localhost:8080/",
          "height": 865
        },
        "id": "ZcQ9e3UHliFw",
        "outputId": "fd74b385-dba6-4331-afa3-7d32ace2c40d"
      },
      "source": [
        "fig, axs = plt.subplots(nrows=2, ncols=3, figsize=(15,15))\r\n",
        "for i in range(6):\r\n",
        "  sample = cifar3[np.random.randint(len(cifar3))]\r\n",
        "  axs[int(i/3), i%3].imshow(np.transpose(sample[0].numpy(),(1, 2, 0)))\r\n",
        "  axs[int(i/3), i%3].set_title(class_names[sample[1]])"
      ],
      "execution_count": 6,
      "outputs": [
        {
          "output_type": "stream",
          "text": [
            "Clipping input data to the valid range for imshow with RGB data ([0..1] for floats or [0..255] for integers).\n",
            "Clipping input data to the valid range for imshow with RGB data ([0..1] for floats or [0..255] for integers).\n",
            "Clipping input data to the valid range for imshow with RGB data ([0..1] for floats or [0..255] for integers).\n",
            "Clipping input data to the valid range for imshow with RGB data ([0..1] for floats or [0..255] for integers).\n",
            "Clipping input data to the valid range for imshow with RGB data ([0..1] for floats or [0..255] for integers).\n",
            "Clipping input data to the valid range for imshow with RGB data ([0..1] for floats or [0..255] for integers).\n"
          ],
          "name": "stderr"
        },
        {
          "output_type": "display_data",
          "data": {
            "image/png": "[encoded data removed]",
            "text/plain": [
              "<Figure size 1080x1080 with 6 Axes>"
            ]
          },
          "metadata": {
            "tags": [],
            "needs_background": "light"
          }
        }
      ]
    },
    {
      "cell_type": "markdown",
      "metadata": {
        "id": "_jj7vThuqV0d"
      },
      "source": [
        "Let's make sure the clases are balanced, if they are not we could use techniques like data augmentation to balance the dataset."
      ]
    },
    {
      "cell_type": "code",
      "metadata": {
        "colab": {
          "base_uri": "https://localhost:8080/",
          "height": 265
        },
        "id": "IWHIDI3inF2f",
        "outputId": "8800a62a-7a1b-4a4c-e7b7-404d247275b3"
      },
      "source": [
        "classes = [s[1] for s in cifar3]\r\n",
        "plt.hist(classes)\r\n",
        "plt.show()"
      ],
      "execution_count": 7,
      "outputs": [
        {
          "output_type": "display_data",
          "data": {
            "image/png": "[encoded data removed]",
            "text/plain": [
              "<Figure size 432x288 with 1 Axes>"
            ]
          },
          "metadata": {
            "tags": [],
            "needs_background": "light"
          }
        }
      ]
    },
    {
      "cell_type": "markdown",
      "metadata": {
        "id": "WZ7TFHEsqipc"
      },
      "source": [
        "They are perfectly balanced.\r\n",
        "\r\n",
        "From the plot before I am a bit worried about the data, `Clipping input data to the valid range for imshow with RGB data ([0..1] for floats or [0..255] for integers).` appeared for every image, that means the range in the data is not between 0-1 or 0-255 which are the standard for images. Let's have a look..."
      ]
    },
    {
      "cell_type": "code",
      "metadata": {
        "colab": {
          "base_uri": "https://localhost:8080/",
          "height": 276
        },
        "id": "2vr923OVsPu7",
        "outputId": "01342de1-d40a-463f-c3eb-aaeda2898ac4"
      },
      "source": [
        "aggregated = [s[0].flatten().numpy() for s in cifar3]\r\n",
        "plt.hist(np.array(aggregated).ravel())\r\n",
        "plt.show()"
      ],
      "execution_count": 8,
      "outputs": [
        {
          "output_type": "display_data",
          "data": {
            "image/png": "[encoded data removed]",
            "text/plain": [
              "<Figure size 432x288 with 1 Axes>"
            ]
          },
          "metadata": {
            "tags": [],
            "needs_background": "light"
          }
        }
      ]
    },
    {
      "cell_type": "markdown",
      "metadata": {
        "id": "GjZblGmjiGKH"
      },
      "source": [
        "For me it looks a bit strange that the range of data in images goes from -2 to more than 2. The explanation I can think of is the normallization of the data.\r\n",
        "\r\n",
        "Finally we are going to create the data loaders that will help us in the training phase. The difference between the training loader and the calidation one, apart from the data they contain, is that the validation one should not be shuffled."
      ]
    },
    {
      "cell_type": "code",
      "metadata": {
        "id": "rwrUdS2GzfjV"
      },
      "source": [
        "train_loader = torch.utils.data.DataLoader(cifar3, batch_size=64, shuffle=True)\r\n",
        "val_loader = torch.utils.data.DataLoader(cifar3_val, batch_size=64, shuffle=False)"
      ],
      "execution_count": 9,
      "outputs": []
    },
    {
      "cell_type": "markdown",
      "metadata": {
        "id": "eBFZjZER0Hmk"
      },
      "source": [
        "## **Models Architectures**\r\n",
        "\r\n",
        "In this section we are going to define the architecture of the different models.\r\n",
        "\r\n",
        "\r\n",
        "### **Baseline**\r\n",
        "\r\n",
        "We are going to start with a baseline that we will improve later on."
      ]
    },
    {
      "cell_type": "code",
      "metadata": {
        "id": "ANEFzpef10fr"
      },
      "source": [
        "class NetBaseline(nn.Module):\r\n",
        "  def __init__(self):\r\n",
        "    super().__init__()\r\n",
        "    # depth 3->24 same size(kernel_size=3, padding=1)\r\n",
        "    self.conv1 = nn.Conv2d(3, 24, kernel_size=3, padding=1)\r\n",
        "    # depth 24->8 same size(kernel_size=3, padding=1)\r\n",
        "    self.conv2 = nn.Conv2d(24, 8, kernel_size=3, padding=1)\r\n",
        "    # 8*8*8 -> 32\r\n",
        "    self.fc1 = nn.Linear(8 * 8 * 8, 32)\r\n",
        "    # 32 -> 3 (number of classes to classify)\r\n",
        "    self.fc2 = nn.Linear(32, 3)\r\n",
        "        \r\n",
        "  def forward(self, x):\r\n",
        "    # shape = (3, 32, 32)\r\n",
        "    out = F.max_pool2d(torch.tanh(self.conv1(x)), 2)\r\n",
        "    # shape = (24, 16, 16)\r\n",
        "    out = F.max_pool2d(torch.tanh(self.conv2(out)), 2)\r\n",
        "    # shape = (8, 8, 8)\r\n",
        "    out = out.view(-1, 8 * 8 * 8)\r\n",
        "    # shape = (512)\r\n",
        "    out = torch.tanh(self.fc1(out))\r\n",
        "    # shape = (32)\r\n",
        "    out = self.fc2(out)\r\n",
        "    # shape = (3)\r\n",
        "    return out"
      ],
      "execution_count": 10,
      "outputs": []
    },
    {
      "cell_type": "markdown",
      "metadata": {
        "id": "qlikTvVW30ew"
      },
      "source": [
        "This `NetBaseline` model has 2 convolutional layers followed by hyperbolic tangent and max-pool layers. At the end it has a classfier made from 2 fully connected layers.\r\n",
        "\r\n",
        "### **Width**\r\n",
        "\r\n",
        "This model is very similar to the previous one, the only difference is the two fully connected layers at the end."
      ]
    },
    {
      "cell_type": "code",
      "metadata": {
        "id": "sJ3uPUZn97O7"
      },
      "source": [
        "class NetWidth(nn.Module):\r\n",
        "  def __init__(self):\r\n",
        "    super().__init__()\r\n",
        "    # depth 3->24 same size(kernel_size=3, padding=1)\r\n",
        "    self.conv1 = nn.Conv2d(3, 24, kernel_size=3, padding=1)\r\n",
        "    # depth 24->8 same size(kernel_size=3, padding=1)\r\n",
        "    self.conv2 = nn.Conv2d(24, 8, kernel_size=3, padding=1)\r\n",
        "    # 8*8*8 -> 40\r\n",
        "    self.fc1 = nn.Linear(8 * 8 * 8, 40)\r\n",
        "    # 40 -> 3 (number of classes to classify)\r\n",
        "    self.fc2 = nn.Linear(40, 3)\r\n",
        "        \r\n",
        "  def forward(self, x):\r\n",
        "    # shape = (3, 32, 32)\r\n",
        "    out = F.max_pool2d(torch.tanh(self.conv1(x)), 2)\r\n",
        "    # shape = (24, 16, 16)\r\n",
        "    out = F.max_pool2d(torch.tanh(self.conv2(out)), 2)\r\n",
        "    # shape = (8, 8, 8)\r\n",
        "    out = out.view(-1, 8 * 8 * 8)\r\n",
        "    # shape = (512)\r\n",
        "    out = torch.tanh(self.fc1(out))\r\n",
        "    # shape = (40)\r\n",
        "    out = self.fc2(out)\r\n",
        "    # shape = (3)\r\n",
        "    return out"
      ],
      "execution_count": 11,
      "outputs": []
    },
    {
      "cell_type": "markdown",
      "metadata": {
        "id": "UeRiVHcE-8Di"
      },
      "source": [
        "### **Dropout**\r\n",
        "\r\n",
        "This model adds dropout layers. These layers drop randomly connections during the training (it makes them zeros), this prevents neurons from speciallicing themselves in a part of the image. The output from that is a network more robuts that is able to generalize better."
      ]
    },
    {
      "cell_type": "code",
      "metadata": {
        "id": "1vWCircW-67c"
      },
      "source": [
        "class NetDropout(nn.Module):\r\n",
        "  def __init__(self):\r\n",
        "    super().__init__()\r\n",
        "    # depth 3->24 same size(kernel_size=3, padding=1)\r\n",
        "    self.conv1 = nn.Conv2d(3, 24, kernel_size=3, padding=1)\r\n",
        "    self.dropout1 = nn.Dropout2d(p=0.6)\r\n",
        "    # depth 24->8 same size(kernel_size=3, padding=1)\r\n",
        "    self.conv2 = nn.Conv2d(24, 8, kernel_size=3, padding=1)\r\n",
        "    self.dropout2 = nn.Dropout2d(p=0.6)\r\n",
        "    # 8*8*8 -> 32\r\n",
        "    self.fc1 = nn.Linear(8 * 8 * 8, 32)\r\n",
        "    # 32 -> 3 (number of classes to classify)\r\n",
        "    self.fc2 = nn.Linear(32, 3)\r\n",
        "        \r\n",
        "  def forward(self, x):\r\n",
        "    # shape = (3, 32, 32)\r\n",
        "    out = F.max_pool2d(torch.tanh(self.conv1(x)), 2)\r\n",
        "    # shape = (24, 16, 16)\r\n",
        "    out = self.dropout1(out)\r\n",
        "    # shape = (24, 16, 16)\r\n",
        "    out = F.max_pool2d(torch.tanh(self.conv2(out)), 2)\r\n",
        "    # shape = (8, 8, 8)\r\n",
        "    out = self.dropout2(out)\r\n",
        "    # shape = (8, 8, 8)\r\n",
        "    out = out.view(-1, 8 * 8 * 8)\r\n",
        "    # shape = (512)\r\n",
        "    out = torch.tanh(self.fc1(out))\r\n",
        "    # shape = (32)\r\n",
        "    out = self.fc2(out)\r\n",
        "    # shape = (3)\r\n",
        "    return out"
      ],
      "execution_count": 12,
      "outputs": []
    },
    {
      "cell_type": "markdown",
      "metadata": {
        "id": "vZiuYftBBr9D"
      },
      "source": [
        "### **Batch Normalization**\r\n",
        "\r\n",
        "This model normalize the whole batch after every convolution. It is not clear why it does help, but what it is clear is that it does it and it improves the training of the deep neural network."
      ]
    },
    {
      "cell_type": "code",
      "metadata": {
        "id": "mPi0ROZABsdc"
      },
      "source": [
        "class NetBatchNorm(nn.Module):\r\n",
        "  def __init__(self):\r\n",
        "    super().__init__()\r\n",
        "    # depth 3->24 same size(kernel_size=3, padding=1)\r\n",
        "    self.conv1 = nn.Conv2d(3, 24, kernel_size=3, padding=1)\r\n",
        "    self.batchnorm1 = nn.BatchNorm2d(24)\r\n",
        "    # depth 24->8 same size(kernel_size=3, padding=1)\r\n",
        "    self.conv2 = nn.Conv2d(24, 8, kernel_size=3, padding=1)\r\n",
        "    self.batchnorm2 = nn.BatchNorm2d(8)\r\n",
        "    # 8*8*8 -> 40\r\n",
        "    self.fc1 = nn.Linear(8 * 8 * 8, 40)\r\n",
        "    # 40 -> 3 (number of classes to classify)\r\n",
        "    self.fc2 = nn.Linear(40, 3)\r\n",
        "        \r\n",
        "  def forward(self, x):\r\n",
        "    # shape = (3, 32, 32)\r\n",
        "    out = F.max_pool2d(torch.tanh(self.batchnorm1(self.conv1(x))), 2)\r\n",
        "    # shape = (24, 16, 16)\r\n",
        "    out = F.max_pool2d(torch.tanh(self.batchnorm2(self.conv2(out))), 2)\r\n",
        "    # shape = (8, 8, 8)\r\n",
        "    out = out.view(-1, 8 * 8 * 8)\r\n",
        "    # shape = (512)\r\n",
        "    out = torch.tanh(self.fc1(out))\r\n",
        "    # shape = (40)\r\n",
        "    out = self.fc2(out)\r\n",
        "    # shape = (3)\r\n",
        "    return out"
      ],
      "execution_count": 13,
      "outputs": []
    },
    {
      "cell_type": "markdown",
      "metadata": {
        "id": "aULloWEUDrhf"
      },
      "source": [
        "### **Depth**\r\n",
        "\r\n",
        "Here we are adding one more convolutional layer. It seems that for deeper networks relu works better as activation function than hiperbolic tangent, so we are changing this here as well."
      ]
    },
    {
      "cell_type": "code",
      "metadata": {
        "id": "eRhO0c5bDtwv"
      },
      "source": [
        "class NetDepth(nn.Module):\r\n",
        "  def __init__(self):\r\n",
        "    super().__init__()\r\n",
        "    # depth 3->36 same size(kernel_size=3, padding=1)\r\n",
        "    self.conv1 = nn.Conv2d(3, 36, kernel_size=3, padding=1)\r\n",
        "    # depth 36->18 same size(kernel_size=3, padding=1)\r\n",
        "    self.conv2 = nn.Conv2d(36, 18, kernel_size=3, padding=1)\r\n",
        "    # depth 18->18 same size(kernel_size=3, padding=1)\r\n",
        "    self.conv3 = nn.Conv2d(18, 18, kernel_size=3, padding=1)\r\n",
        "    # 18*4*4 -> 32\r\n",
        "    self.fc1 = nn.Linear(18 * 4 * 4, 32)\r\n",
        "    # 32 -> 3 (number of classes to classify)\r\n",
        "    self.fc2 = nn.Linear(32, 3)\r\n",
        "        \r\n",
        "  def forward(self, x):\r\n",
        "    # shape = (3, 32, 32)\r\n",
        "    out = F.max_pool2d(torch.relu(self.conv1(x)), 2)\r\n",
        "    # shape = (36, 16, 16)\r\n",
        "    out = F.max_pool2d(torch.relu(self.conv2(out)), 2)\r\n",
        "    # shape = (18, 8, 8)\r\n",
        "    out = F.max_pool2d(torch.relu(self.conv3(out)), 2)\r\n",
        "    # shape = (18, 4, 4)\r\n",
        "    out = out.view(-1, 18 * 4 * 4)\r\n",
        "    # shape = (288)\r\n",
        "    out = torch.relu(self.fc1(out))\r\n",
        "    # shape = (32)\r\n",
        "    out = self.fc2(out)\r\n",
        "    # shape = (3)\r\n",
        "    return out"
      ],
      "execution_count": 14,
      "outputs": []
    },
    {
      "cell_type": "markdown",
      "metadata": {
        "id": "5A_eLiKNHIKn"
      },
      "source": [
        "### **Residual**\r\n",
        "\r\n",
        "ResNet uses a technique to allow very deep neural networks and avoid the gradiend vanish problem. What it does is to skip connections and add them some layers later."
      ]
    },
    {
      "cell_type": "code",
      "metadata": {
        "id": "plCD7xC9Hl9-"
      },
      "source": [
        "class NetRes(nn.Module):\r\n",
        "  def __init__(self):\r\n",
        "    super().__init__()\r\n",
        "    # depth 3->36 same size(kernel_size=3, padding=1)\r\n",
        "    self.conv1 = nn.Conv2d(3, 36, kernel_size=3, padding=1)\r\n",
        "    # depth 36->18 same size(kernel_size=3, padding=1)\r\n",
        "    self.conv2 = nn.Conv2d(36, 18, kernel_size=3, padding=1)\r\n",
        "    # depth 18->18 same size(kernel_size=3, padding=1)\r\n",
        "    self.conv3 = nn.Conv2d(18, 18, kernel_size=3, padding=1)\r\n",
        "    # 18*4*4 -> 32\r\n",
        "    self.fc1 = nn.Linear(18 * 4 * 4, 32)\r\n",
        "    # 32 -> 3 (number of classes to classify)\r\n",
        "    self.fc2 = nn.Linear(32, 3)\r\n",
        "        \r\n",
        "  def forward(self, x):\r\n",
        "    # shape = (3, 32, 32)\r\n",
        "    out = F.max_pool2d(torch.relu(self.conv1(x)), 2)\r\n",
        "    # shape = (36, 16, 16)\r\n",
        "    out = F.max_pool2d(torch.relu(self.conv2(out)), 2)\r\n",
        "    out1 = out\r\n",
        "    # shape = (18, 8, 8)\r\n",
        "    out = F.max_pool2d(torch.relu(self.conv3(out))+out1, 2)\r\n",
        "    # shape = (18, 4, 4)\r\n",
        "    out = out.view(-1, 18 * 4 * 4)\r\n",
        "    # shape = (288)\r\n",
        "    out = torch.relu(self.fc1(out))\r\n",
        "    # shape = (32)\r\n",
        "    out = self.fc2(out)\r\n",
        "    # shape = (3)\r\n",
        "    return out"
      ],
      "execution_count": 15,
      "outputs": []
    },
    {
      "cell_type": "markdown",
      "metadata": {
        "id": "0LcafnbbLqky"
      },
      "source": [
        "### **Deep Residual**\r\n",
        "\r\n",
        "This architecture makes use of many blocks of convolution, activation and skip connection together. These blocks do not modify the shape of the tensors."
      ]
    },
    {
      "cell_type": "code",
      "metadata": {
        "id": "wOdYlOsHMZbp"
      },
      "source": [
        "class ResBlock(nn.Module):\r\n",
        "  def __init__(self, n_chans):\r\n",
        "    super().__init__()\r\n",
        "    self.conv = nn.Conv2d(n_chans, n_chans, kernel_size=3, padding=1, bias=False)\r\n",
        "    self.batch_norm = nn.BatchNorm2d(n_chans)\r\n",
        "    torch.nn.init.kaiming_normal_(self.conv.weight, nonlinearity='relu')\r\n",
        "    torch.nn.init.constant_(self.batch_norm.weight, 0.5)\r\n",
        "    torch.nn.init.zeros_(self.batch_norm.bias)\r\n",
        "\r\n",
        "  def forward(self, x):\r\n",
        "    out = self.conv(x)\r\n",
        "    out = self.batch_norm(out)\r\n",
        "    out = torch.relu(out)\r\n",
        "    return out + x"
      ],
      "execution_count": 16,
      "outputs": []
    },
    {
      "cell_type": "code",
      "metadata": {
        "id": "zN_Tms8MOP4n"
      },
      "source": [
        "class NetResDeep(nn.Module):\r\n",
        "  def __init__(self):\r\n",
        "    super().__init__()\r\n",
        "    # depth 3->22 same size(kernel_size=3, padding=1)\r\n",
        "    self.conv1 = nn.Conv2d(3, 22, kernel_size=3, padding=1)\r\n",
        "    # depth 22->22 same size(kernel_size=3, padding=1)\r\n",
        "    self.resblocks = nn.Sequential(*(10 * [ResBlock(22)]))\r\n",
        "    # 22*8*8 -> 32\r\n",
        "    self.fc1 = nn.Linear(22 * 8 * 8, 32)\r\n",
        "    # 32 -> 3\r\n",
        "    self.fc2 = nn.Linear(32, 3)\r\n",
        "        \r\n",
        "  def forward(self, x):\r\n",
        "    # shape = (3, 32, 32)\r\n",
        "    out = F.max_pool2d(torch.relu(self.conv1(x)), 2)\r\n",
        "    # shape = (22, 16, 16)\r\n",
        "    out = self.resblocks(out)\r\n",
        "    # shape = (22, 16, 16)\r\n",
        "    out = F.max_pool2d(out, 2)\r\n",
        "    # shape = (22, 8, 8)\r\n",
        "    out = out.view(-1, 22 * 8 * 8)\r\n",
        "    # shape = (1408)\r\n",
        "    out = torch.relu(self.fc1(out))\r\n",
        "    # shape = (32)\r\n",
        "    out = self.fc2(out)\r\n",
        "    # shape = (3)\r\n",
        "    return out"
      ],
      "execution_count": 17,
      "outputs": []
    },
    {
      "cell_type": "markdown",
      "metadata": {
        "id": "FAPqnfrFRLKO"
      },
      "source": [
        "## **Training and Validation Procedures**\r\n",
        "\r\n",
        "In this section we are going to define procedures to train and validate the models.\r\n",
        "\r\n",
        "\r\n",
        "### Train\r\n",
        "\r\n",
        "The training procedure will run a number of epoch that we will have to specify. Every epoch it goes though the whole training dataset batch by batch. With every batch it moves the images and labels to the device (GPU or CPU), does the forward pass, calculate the error, does the back propagation and optimize the parameters of the model.\r\n",
        "\r\n",
        "This procedure has the option of using L2 regularization. L2 regularization penalizes big coefficients and tries to minimize them.\r\n",
        "\r\n",
        "Note: It is important to zero the optimizer every iteration, if not we will be acumulating the calculations."
      ]
    },
    {
      "cell_type": "code",
      "metadata": {
        "id": "chbOPkJH8_kW"
      },
      "source": [
        "def train(model, loader, n_epochs, optimizer, loss_fn, l2=0.0):\n",
        "  # copy the model to the correct device\n",
        "  model.to(device)\n",
        "  # save the loss during the execution\n",
        "  losses = []\n",
        "\n",
        "  for epoch in range(n_epochs):\n",
        "    loss_train = 0.0\n",
        "    for imgs, labels in train_loader:\n",
        "      # clean the gradient from the optimizer\n",
        "      optimizer.zero_grad()\n",
        "\n",
        "      # get the batch and copy it to the device\n",
        "      imgs = imgs.to(device=device)\n",
        "      labels = labels.to(device=device)\n",
        "\n",
        "      # forward pass\n",
        "      outputs = model(imgs)\n",
        "      # loss calculation with the posibility of using l2 regularization\n",
        "      loss = loss_fn(outputs, labels)\n",
        "      if l2:\n",
        "        l2_norm = sum(p.pow(2.0).sum() for p in model.parameters())\n",
        "        loss += l2 * l2_norm \n",
        "      # backward pass\n",
        "      loss.backward()\n",
        "      # optimize the parameters\n",
        "      optimizer.step()\n",
        "\n",
        "      # accumulate the loss\n",
        "      loss_train += loss.item()\n",
        "\n",
        "    losses.append(loss_train / len(train_loader))\n",
        "    # every 10 epochs print the loss\n",
        "    if epoch == 0 or epoch % 9 == 0:\n",
        "      print('{} Epoch {}, Training loss {}'.format(\n",
        "      datetime.datetime.now(), epoch,\n",
        "      losses[-1]))\n",
        "  return losses"
      ],
      "execution_count": 18,
      "outputs": []
    },
    {
      "cell_type": "markdown",
      "metadata": {
        "id": "a2-cnkqTB3Fe"
      },
      "source": [
        "### Validation\r\n",
        "\r\n",
        "The validation procedure consist in calculate the prediction of our model and compare it with the real lables."
      ]
    },
    {
      "cell_type": "code",
      "metadata": {
        "id": "eKqR5lGRCHog"
      },
      "source": [
        "def validate(model, loader):\n",
        "  correct = 0\n",
        "\n",
        "  # copy the model to the correct device\n",
        "  model.to(device)\n",
        "  # disable the gradient calculation in the model, this is used for evaluation\n",
        "  model.eval()\n",
        "  # for every batch\n",
        "  for imgs, labels in loader:\n",
        "    # load the images and labels into the device\n",
        "    imgs = imgs.to(device=device)\n",
        "    labels = labels.to(device=device)\n",
        "    # calculate the predictions\n",
        "    # the final prediction is done choosing the class with the biggest logit\n",
        "    outputs = model(imgs)\n",
        "    _, predicted = torch.max(outputs, dim=1)\n",
        "    # accumulate the number of correct predictions\n",
        "    correct += int((predicted == labels).sum())\n",
        "  # print the output\n",
        "  acc = correct / len(loader.dataset)\n",
        "  print(\"Accuracy {}: {:.2f}\".format(name , acc))\n",
        "  return acc"
      ],
      "execution_count": 19,
      "outputs": []
    },
    {
      "cell_type": "markdown",
      "metadata": {
        "id": "SwrNWBmNH60a"
      },
      "source": [
        "## **Train and Validate Models**\r\n",
        "\r\n",
        "In this section we are going to train and validate the models to, later in the notebook, compare them.\r\n",
        "\r\n",
        "\r\n",
        "The first thing we are going to do is to define a dictionary with all the models we are going to train and the constructor for the class.\r\n",
        "\r\n",
        "Note: Again, this is so simple because our classes do not take any argument in the constructor."
      ]
    },
    {
      "cell_type": "code",
      "metadata": {
        "id": "nzH4VQweSKr6"
      },
      "source": [
        "models = {'baseline': {'constructor': NetBaseline},\r\n",
        "          'width': {'constructor': NetWidth},\r\n",
        "          'baseline_l2': {'constructor': NetBaseline},\r\n",
        "          'dropout': {'constructor': NetDropout},\r\n",
        "          'batch_norm': {'constructor': NetBatchNorm},\r\n",
        "          'depth': {'constructor': NetDepth},\r\n",
        "          'residual': {'constructor': NetRes},\r\n",
        "          'residual_deep': {'constructor': NetResDeep}}"
      ],
      "execution_count": 20,
      "outputs": []
    },
    {
      "cell_type": "markdown",
      "metadata": {
        "id": "jDJWVuOlZmD2"
      },
      "source": [
        "Now we are going to check if we have GPU available for training and inference."
      ]
    },
    {
      "cell_type": "code",
      "metadata": {
        "id": "4XZhm5wCZmku"
      },
      "source": [
        "device = (torch.device('cuda') if torch.cuda.is_available() else torch.device('cpu'))"
      ],
      "execution_count": 21,
      "outputs": []
    },
    {
      "cell_type": "markdown",
      "metadata": {
        "id": "dVGTg7_KSZIy"
      },
      "source": [
        "### Save and Load Models\r\n",
        "\r\n",
        "We need to be able to save and load the models. This simple way to save the complete model is possible becasue our architectures are simple and do not have parameters, for example.\r\n",
        "\r\n",
        "Note: You have to be careful to not modify the classes betwen save and load becasue we are instantiating the classes in the load function."
      ]
    },
    {
      "cell_type": "code",
      "metadata": {
        "id": "NFDuHWLpLrfg"
      },
      "source": [
        "def save_model(model, name):\r\n",
        "  model_data = {'state_dict': model.state_dict(),\r\n",
        "                'class': model.__class__.__name__}\r\n",
        "  torch.save(model_data, os.path.join(data_path, name + '.pt'))\r\n",
        "\r\n",
        "def load_model(name):\r\n",
        "  model_data = torch.load(os.path.join(data_path, name + '.pt'))\r\n",
        "  model = eval(model_data['class']+'()')\r\n",
        "  model.load_state_dict(model_data['state_dict'])\r\n",
        "  return model"
      ],
      "execution_count": 22,
      "outputs": []
    },
    {
      "cell_type": "markdown",
      "metadata": {
        "id": "LDoaQiuVQ0yb"
      },
      "source": [
        "### Training the Models\r\n",
        "\r\n",
        "We are using Adam optimizer as optimizer because it has demostrate a good starting point for most of deep learning problems being fast in convergence using the default hyper-parameters.\r\n",
        "\r\n",
        "As a loss function we are using the Cross-Entropy which is the default one for multi-class classification."
      ]
    },
    {
      "cell_type": "code",
      "metadata": {
        "colab": {
          "base_uri": "https://localhost:8080/"
        },
        "id": "1Q_GZqFnQ0X2",
        "outputId": "fa8725ae-b8bc-46e5-b3cf-392a8b13dca2"
      },
      "source": [
        "n_epochs = 100\r\n",
        "\r\n",
        "for name, d in models.items():\r\n",
        "  print(f'Training model {name}')\r\n",
        "  # isntatiante the model\r\n",
        "  model = d['constructor']()\r\n",
        "  # set the l2 reg parameter if the execution has 'l2' in its name\r\n",
        "  l2 = 0.002 if 'l2' in name else 0.0\r\n",
        "\r\n",
        "  # optimizer and loss function\r\n",
        "  optimizer = optim.Adam(model.parameters())\r\n",
        "  loss_fn = nn.CrossEntropyLoss()\r\n",
        "\r\n",
        "  # we are going to time the training process\r\n",
        "  t0 = time.time()\r\n",
        "\r\n",
        "  # training\r\n",
        "  losses = train(model, train_loader, n_epochs, optimizer, loss_fn, l2)\r\n",
        "\r\n",
        "  # saving the training time in the specific device\r\n",
        "  t1 = time.time()\r\n",
        "  d['training_time_'+device.type] = t1 - t0\r\n",
        "  print(f'Training time was {t1-t0} using device {device.type}')\r\n",
        "\r\n",
        "  # saving the record of losses\r\n",
        "  d['training_loss'] = losses\r\n",
        "\r\n",
        "  # saving the trained model\r\n",
        "  save_model(model, name)"
      ],
      "execution_count": 23,
      "outputs": [
        {
          "output_type": "stream",
          "text": [
            "Training model baseline\n",
            "2021-03-07 15:16:08.151228 Epoch 0, Training loss 0.8955284377361866\n",
            "2021-03-07 15:16:14.310708 Epoch 9, Training loss 0.5219606413486156\n",
            "2021-03-07 15:16:20.411516 Epoch 18, Training loss 0.34686365121222557\n",
            "2021-03-07 15:16:26.576195 Epoch 27, Training loss 0.20872746274826373\n",
            "2021-03-07 15:16:32.805006 Epoch 36, Training loss 0.11034265407856475\n",
            "2021-03-07 15:16:38.986798 Epoch 45, Training loss 0.050471540603865966\n",
            "2021-03-07 15:16:45.203800 Epoch 54, Training loss 0.023037146806637657\n",
            "2021-03-07 15:16:51.369537 Epoch 63, Training loss 0.011162233467590302\n",
            "2021-03-07 15:16:57.589117 Epoch 72, Training loss 0.2317229165973023\n",
            "2021-03-07 15:17:03.795647 Epoch 81, Training loss 0.00508921218025399\n",
            "2021-03-07 15:17:09.991532 Epoch 90, Training loss 0.23223675536189942\n",
            "2021-03-07 15:17:16.164898 Epoch 99, Training loss 0.0035542745841667055\n",
            "Training time was 78.98348093032837 using device cuda\n",
            "Training model width\n",
            "2021-03-07 15:17:16.929045 Epoch 0, Training loss 0.8728256431031735\n",
            "2021-03-07 15:17:23.046409 Epoch 9, Training loss 0.5415433035251942\n",
            "2021-03-07 15:17:29.227933 Epoch 18, Training loss 0.35234957362743136\n",
            "2021-03-07 15:17:35.388236 Epoch 27, Training loss 0.17042918351102382\n",
            "2021-03-07 15:17:41.546115 Epoch 36, Training loss 0.06809782825727412\n",
            "2021-03-07 15:17:47.703728 Epoch 45, Training loss 0.0246367835142511\n",
            "2021-03-07 15:17:53.854900 Epoch 54, Training loss 0.010300041503332396\n",
            "2021-03-07 15:17:59.955829 Epoch 63, Training loss 0.0043760046987061174\n",
            "2021-03-07 15:18:06.145748 Epoch 72, Training loss 0.21277109336335845\n",
            "2021-03-07 15:18:12.307579 Epoch 81, Training loss 0.002630768562270764\n",
            "2021-03-07 15:18:18.452439 Epoch 90, Training loss 0.0013660948926662194\n",
            "2021-03-07 15:18:24.605168 Epoch 99, Training loss 0.0007016970393337071\n",
            "Training time was 68.3667163848877 using device cuda\n",
            "Training model baseline_l2\n",
            "2021-03-07 15:18:25.552355 Epoch 0, Training loss 0.9327291377047275\n",
            "2021-03-07 15:18:33.802505 Epoch 9, Training loss 0.6697464694368078\n",
            "2021-03-07 15:18:42.126280 Epoch 18, Training loss 0.6206000802364755\n",
            "2021-03-07 15:18:50.407136 Epoch 27, Training loss 0.5879657229210468\n",
            "2021-03-07 15:18:58.716573 Epoch 36, Training loss 0.567907862587178\n",
            "2021-03-07 15:19:07.016727 Epoch 45, Training loss 0.5458730249962909\n",
            "2021-03-07 15:19:15.367037 Epoch 54, Training loss 0.5311771250785665\n",
            "2021-03-07 15:19:23.776519 Epoch 63, Training loss 0.5181166383814304\n",
            "2021-03-07 15:19:32.270028 Epoch 72, Training loss 0.5094497987564574\n",
            "2021-03-07 15:19:40.583850 Epoch 81, Training loss 0.49924953453084253\n",
            "2021-03-07 15:19:48.836861 Epoch 90, Training loss 0.4976586699485779\n",
            "2021-03-07 15:19:57.142697 Epoch 99, Training loss 0.4951302671686132\n",
            "Training time was 92.534095287323 using device cuda\n",
            "Training model dropout\n",
            "2021-03-07 15:19:57.889933 Epoch 0, Training loss 1.006299502291578\n",
            "2021-03-07 15:20:04.379679 Epoch 9, Training loss 0.8531974688489387\n",
            "2021-03-07 15:20:10.919126 Epoch 18, Training loss 0.8154616272195857\n",
            "2021-03-07 15:20:17.406017 Epoch 27, Training loss 0.8024466659160371\n",
            "2021-03-07 15:20:23.899289 Epoch 36, Training loss 0.7834087057316557\n",
            "2021-03-07 15:20:30.398329 Epoch 45, Training loss 0.7736837034529828\n",
            "2021-03-07 15:20:36.887787 Epoch 54, Training loss 0.7730399672021258\n",
            "2021-03-07 15:20:43.420777 Epoch 63, Training loss 0.7553434262884424\n",
            "2021-03-07 15:20:49.948628 Epoch 72, Training loss 0.7611764245844902\n",
            "2021-03-07 15:20:56.472666 Epoch 81, Training loss 0.7523842760857116\n",
            "2021-03-07 15:21:02.999663 Epoch 90, Training loss 0.750878503347965\n",
            "2021-03-07 15:21:09.458345 Epoch 99, Training loss 0.7426384476905173\n",
            "Training time was 72.31229734420776 using device cuda\n",
            "Training model batch_norm\n",
            "2021-03-07 15:21:10.318837 Epoch 0, Training loss 0.8549249636366012\n",
            "2021-03-07 15:21:17.947709 Epoch 9, Training loss 0.5042085539787373\n",
            "2021-03-07 15:21:25.457565 Epoch 18, Training loss 0.32275103913976794\n",
            "2021-03-07 15:21:33.076714 Epoch 27, Training loss 0.18658921239857978\n",
            "2021-03-07 15:21:40.767187 Epoch 36, Training loss 0.0961945339244731\n",
            "2021-03-07 15:21:48.424480 Epoch 45, Training loss 0.06243454859136267\n",
            "2021-03-07 15:21:56.156930 Epoch 54, Training loss 0.042044663290552634\n",
            "2021-03-07 15:22:03.995366 Epoch 63, Training loss 0.10645272792019743\n",
            "2021-03-07 15:22:11.710666 Epoch 72, Training loss 0.028726603567322834\n",
            "2021-03-07 15:22:19.356215 Epoch 81, Training loss 0.019975096050729144\n",
            "2021-03-07 15:22:26.957779 Epoch 90, Training loss 0.063043089232784\n",
            "2021-03-07 15:22:34.571876 Epoch 99, Training loss 0.08344041355687412\n",
            "Training time was 85.10662031173706 using device cuda\n",
            "Training model depth\n",
            "2021-03-07 15:22:35.367579 Epoch 0, Training loss 0.9218712393273698\n",
            "2021-03-07 15:22:42.521904 Epoch 9, Training loss 0.49164022828670256\n",
            "2021-03-07 15:22:49.645790 Epoch 18, Training loss 0.35133269873071227\n",
            "2021-03-07 15:22:56.771820 Epoch 27, Training loss 0.2453233981069098\n",
            "2021-03-07 15:23:03.889672 Epoch 36, Training loss 0.15441261327013056\n",
            "2021-03-07 15:23:10.997917 Epoch 45, Training loss 0.09457599424380571\n",
            "2021-03-07 15:23:18.246849 Epoch 54, Training loss 0.0728238976877579\n",
            "2021-03-07 15:23:25.367041 Epoch 63, Training loss 0.04339456913913501\n",
            "2021-03-07 15:23:32.572620 Epoch 72, Training loss 0.006206323552574527\n",
            "2021-03-07 15:23:39.797710 Epoch 81, Training loss 0.0007993930912368554\n",
            "2021-03-07 15:23:46.935118 Epoch 90, Training loss 0.00025973061427530993\n",
            "2021-03-07 15:23:54.104697 Epoch 99, Training loss 0.1279418420046568\n",
            "Training time was 79.5290699005127 using device cuda\n",
            "Training model residual\n",
            "2021-03-07 15:23:54.917479 Epoch 0, Training loss 0.9086386954530756\n",
            "2021-03-07 15:24:02.119955 Epoch 9, Training loss 0.49892053223670796\n",
            "2021-03-07 15:24:09.324780 Epoch 18, Training loss 0.3718322554167281\n",
            "2021-03-07 15:24:16.511260 Epoch 27, Training loss 0.2764512277981068\n",
            "2021-03-07 15:24:23.726710 Epoch 36, Training loss 0.19461742411268518\n",
            "2021-03-07 15:24:30.989078 Epoch 45, Training loss 0.14971403187101193\n",
            "2021-03-07 15:24:38.450578 Epoch 54, Training loss 0.10270571916344318\n",
            "2021-03-07 15:24:45.740633 Epoch 63, Training loss 0.07162752373817753\n",
            "2021-03-07 15:24:52.976146 Epoch 72, Training loss 0.06615342557469898\n",
            "2021-03-07 15:25:00.203799 Epoch 81, Training loss 0.04159170211431511\n",
            "2021-03-07 15:25:07.434741 Epoch 90, Training loss 0.06233326128604723\n",
            "2021-03-07 15:25:14.644152 Epoch 99, Training loss 0.0021651921961010692\n",
            "Training time was 80.53588080406189 using device cuda\n",
            "Training model residual_deep\n",
            "2021-03-07 15:25:16.334790 Epoch 0, Training loss 1.0154482220081573\n",
            "2021-03-07 15:25:31.443428 Epoch 9, Training loss 0.5100364801731515\n",
            "2021-03-07 15:25:46.449601 Epoch 18, Training loss 0.3916141298857141\n",
            "2021-03-07 15:26:01.585960 Epoch 27, Training loss 0.30279743680928617\n",
            "2021-03-07 15:26:16.656747 Epoch 36, Training loss 0.23115649616464656\n",
            "2021-03-07 15:26:31.727095 Epoch 45, Training loss 0.1860470768777614\n",
            "2021-03-07 15:26:46.748186 Epoch 54, Training loss 0.1533123105922912\n",
            "2021-03-07 15:27:01.834004 Epoch 63, Training loss 0.1398135532486312\n",
            "2021-03-07 15:27:16.980496 Epoch 72, Training loss 0.126870000243504\n",
            "2021-03-07 15:27:32.065371 Epoch 81, Training loss 0.12140786964842613\n",
            "2021-03-07 15:27:47.185212 Epoch 90, Training loss 0.12970438390732444\n",
            "2021-03-07 15:28:02.216204 Epoch 99, Training loss 0.09942008505595175\n",
            "Training time was 167.56456112861633 using device cuda\n"
          ],
          "name": "stdout"
        }
      ]
    },
    {
      "cell_type": "markdown",
      "metadata": {
        "id": "7h2gHRcAaLXN"
      },
      "source": [
        "### Validate the Models\r\n",
        "\r\n",
        "We need to validate the performance of the models in data they have not been trained on, for this purpose we are going to use the validation data."
      ]
    },
    {
      "cell_type": "code",
      "metadata": {
        "colab": {
          "base_uri": "https://localhost:8080/"
        },
        "id": "kljcZkEZVtrj",
        "outputId": "82ee1988-7d8b-4edd-e696-d5e0ce021fcf"
      },
      "source": [
        "for name, d in models.items():\r\n",
        "  print(f'Validating model {name}')\r\n",
        "  # load the model\r\n",
        "  model = load_model(name)\r\n",
        "\r\n",
        "  # validate\r\n",
        "  acc = validate(model, val_loader)\r\n",
        "\r\n",
        "  # saving the accuracy\r\n",
        "  d['acc'] = acc"
      ],
      "execution_count": 24,
      "outputs": [
        {
          "output_type": "stream",
          "text": [
            "Validating model baseline\n",
            "Accuracy baseline: 0.70\n",
            "Validating model width\n",
            "Accuracy width: 0.70\n",
            "Validating model baseline_l2\n",
            "Accuracy baseline_l2: 0.73\n",
            "Validating model dropout\n",
            "Accuracy dropout: 0.68\n",
            "Validating model batch_norm\n",
            "Accuracy batch_norm: 0.68\n",
            "Validating model depth\n",
            "Accuracy depth: 0.72\n",
            "Validating model residual\n",
            "Accuracy residual: 0.75\n",
            "Validating model residual_deep\n",
            "Accuracy residual_deep: 0.60\n"
          ],
          "name": "stdout"
        }
      ]
    },
    {
      "cell_type": "markdown",
      "metadata": {
        "id": "akyJ7Dm_g8K4"
      },
      "source": [
        "For learning purposes we are going to evaluate the accuracy of the model in the training dataset as well."
      ]
    },
    {
      "cell_type": "code",
      "metadata": {
        "colab": {
          "base_uri": "https://localhost:8080/"
        },
        "id": "U5jPKyDPg7_w",
        "outputId": "34c9e576-e0ea-42bc-a03b-59221b08a83d"
      },
      "source": [
        "for name, d in models.items():\r\n",
        "  print(f'Validating model {name}')\r\n",
        "  # load the model\r\n",
        "  model = load_model(name)\r\n",
        "\r\n",
        "  # validate\r\n",
        "  acc = validate(model, train_loader)\r\n",
        "\r\n",
        "  # saving the accuracy\r\n",
        "  d['train_acc'] = acc"
      ],
      "execution_count": 25,
      "outputs": [
        {
          "output_type": "stream",
          "text": [
            "Validating model baseline\n",
            "Accuracy baseline: 1.00\n",
            "Validating model width\n",
            "Accuracy width: 1.00\n",
            "Validating model baseline_l2\n",
            "Accuracy baseline_l2: 0.93\n",
            "Validating model dropout\n",
            "Accuracy dropout: 0.76\n",
            "Validating model batch_norm\n",
            "Accuracy batch_norm: 0.97\n",
            "Validating model depth\n",
            "Accuracy depth: 0.97\n",
            "Validating model residual\n",
            "Accuracy residual: 1.00\n",
            "Validating model residual_deep\n",
            "Accuracy residual_deep: 0.62\n"
          ],
          "name": "stdout"
        }
      ]
    },
    {
      "cell_type": "markdown",
      "metadata": {
        "id": "lcV5TZJ_dzzi"
      },
      "source": [
        "## **Results**\r\n",
        "\r\n",
        "In this section we will present the result and the conclusions about the different architectures trained and evaluated with Cifar3 dataset.\r\n",
        "\r\n",
        "### **Loss during training**\r\n",
        "\r\n",
        "These graphs represent the evolution of the loss while training the models."
      ]
    },
    {
      "cell_type": "code",
      "metadata": {
        "colab": {
          "base_uri": "https://localhost:8080/",
          "height": 621
        },
        "id": "fqUzSx1seDzS",
        "outputId": "219aa594-5e62-41cd-b24a-03196ce4f447"
      },
      "source": [
        "fig, axs = plt.subplots(nrows=2, ncols=4, figsize=(20,10), sharey=True)\r\n",
        "for i, name in enumerate(models):\r\n",
        "  sample = cifar3[np.random.randint(len(cifar3))]\r\n",
        "  axs[int(i/4), i%4].plot(models[name]['training_loss'])\r\n",
        "  axs[int(i/4), i%4].set_title(name)\r\n",
        "  axs[int(i/4), i%4].set_xlabel('Batch')\r\n",
        "  axs[int(i/4), i%4].set_ylabel('Loss')"
      ],
      "execution_count": 26,
      "outputs": [
        {
          "output_type": "display_data",
          "data": {
            "image/png": "[encoded data removed]",
            "text/plain": [
              "<Figure size 1440x720 with 8 Axes>"
            ]
          },
          "metadata": {
            "tags": [],
            "needs_background": "light"
          }
        }
      ]
    },
    {
      "cell_type": "code",
      "metadata": {
        "colab": {
          "base_uri": "https://localhost:8080/",
          "height": 639
        },
        "id": "k2Slk9zNvuN-",
        "outputId": "ba786b82-33c3-4fa7-9d54-358abac036a4"
      },
      "source": [
        "fig, ax = plt.subplots(figsize=(15,10))\r\n",
        "for i, name in enumerate(models):\r\n",
        "  sample = cifar3[np.random.randint(len(cifar3))]\r\n",
        "  ax.plot(models[name]['training_loss'])\r\n",
        "  ax.set_title('Training loss - Epoch')\r\n",
        "  ax.set_xlabel('Batch')\r\n",
        "  ax.set_ylabel('Loss')\r\n",
        "ax.legend(models.keys())"
      ],
      "execution_count": 27,
      "outputs": [
        {
          "output_type": "execute_result",
          "data": {
            "text/plain": [
              "<matplotlib.legend.Legend at 0x7f357b263ed0>"
            ]
          },
          "metadata": {
            "tags": []
          },
          "execution_count": 27
        },
        {
          "output_type": "display_data",
          "data": {
            "image/png": "[encoded data removed]",
            "text/plain": [
              "<Figure size 1080x720 with 1 Axes>"
            ]
          },
          "metadata": {
            "tags": [],
            "needs_background": "light"
          }
        }
      ]
    },
    {
      "cell_type": "markdown",
      "metadata": {
        "id": "1yirCCdCgu_4"
      },
      "source": [
        "### **Accuracy**\r\n",
        "\r\n",
        "These graphs represent the accuracy of each each model in the training and validation dataset."
      ]
    },
    {
      "cell_type": "code",
      "metadata": {
        "colab": {
          "base_uri": "https://localhost:8080/",
          "height": 610
        },
        "id": "2IsWLvL4hgxp",
        "outputId": "79b2435b-453e-43b7-958a-a7f7be24bf01"
      },
      "source": [
        "train_acc = [d['train_acc'] for _, d in models.items()]\r\n",
        "val_acc = [d['acc'] for _, d in models.items()]\r\n",
        "\r\n",
        "x = np.arange(len(models))\r\n",
        "width = 0.4\r\n",
        "\r\n",
        "fig, ax = plt.subplots(figsize=(10,10))\r\n",
        "ax.bar(x-width/2, train_acc, width, label='Train')\r\n",
        "ax.bar(x+width/2, val_acc, width, label='Validation')\r\n",
        "\r\n",
        "# no idea why I have to add an empty label at the beggining\r\n",
        "# but if I dont do it the lables are shifted\r\n",
        "ax.set_xticklabels([''] + list(models.keys()))\r\n",
        "ax.legend()\r\n",
        "ax.set_ylabel('Accuracy')"
      ],
      "execution_count": 28,
      "outputs": [
        {
          "output_type": "execute_result",
          "data": {
            "text/plain": [
              "Text(0, 0.5, 'Accuracy')"
            ]
          },
          "metadata": {
            "tags": []
          },
          "execution_count": 28
        },
        {
          "output_type": "display_data",
          "data": {
            "image/png": "[encoded data removed]",
            "text/plain": [
              "<Figure size 720x720 with 1 Axes>"
            ]
          },
          "metadata": {
            "tags": [],
            "needs_background": "light"
          }
        }
      ]
    },
    {
      "cell_type": "markdown",
      "metadata": {
        "id": "ayXDb7hBvNJt"
      },
      "source": [
        "### **Conclussions**\r\n",
        "\r\n",
        "If we just use the first plots with the training loss we would declare that most of our models behave similarly with Baseline like one of the best architecture we have defined. This is due to the fact that most of our models are quickly overfitting the training dataset.\r\n",
        "\r\n",
        "Dropout and L2 regularization prevent the overfitting, thats why in the plots with the training error, these two architectures keep the error higher than the rest. \r\n",
        "\r\n",
        "We need to take a look at the performance in the validation dataset, it is this performance the one that is going to tell us if our model is able to generalize enough to work with images that it did not see before. In the bar plot, we can see that the Baseline does not have a specially good performance, the ones that perform the best are the ones with method to stop the overfitting, like the one with L2 regularization, or methods to lern higher level features, like the deep and the residual one.\r\n",
        "\r\n",
        "One special case is the resiald deep architecture, it is strange that it does not overfit the training data, but it is not able to learn the distribution of the data. This architecture may be too big to be trained with this dataset.\r\n",
        "\r\n",
        "The usual way to deal with this is to use not just train a validation datasets but train, validation and test datasets. In this case we would evaluate the model in the validation dataset while we are training the model with the training dataset and we would use the test dataset at the end. That gives us a lot of information about the training process and how much the model is overfitting or underfitting the training dataset."
      ]
    },
    {
      "cell_type": "markdown",
      "metadata": {
        "id": "nhnEz124rhW5"
      },
      "source": [
        "## **Training Time**\r\n",
        "\r\n",
        "We are going to study the training time using the GPU and the CPU.\r\n",
        "\r\n",
        "We need to retrain the models, this time using the CPU instead the GPU."
      ]
    },
    {
      "cell_type": "code",
      "metadata": {
        "colab": {
          "base_uri": "https://localhost:8080/"
        },
        "id": "8wDxZyy6QNbY",
        "outputId": "5f015c1f-7996-4534-af50-74fc05ad624a"
      },
      "source": [
        "device = torch.device('cpu')\r\n",
        "\r\n",
        "n_epochs = 100\r\n",
        "\r\n",
        "for name, d in models.items():\r\n",
        "  print(f'Training model {name}')\r\n",
        "  # isntatiante the model\r\n",
        "  model = d['constructor']()\r\n",
        "  # set the l2 reg parameter if the execution has 'l2' in its name\r\n",
        "  l2 = 0.002 if 'l2' in name else 0.0\r\n",
        "\r\n",
        "  # optimizer and loss function\r\n",
        "  optimizer = optim.Adam(model.parameters())\r\n",
        "  loss_fn = nn.CrossEntropyLoss()\r\n",
        "\r\n",
        "  # we are going to time the training process\r\n",
        "  t0 = time.time()\r\n",
        "\r\n",
        "  # training\r\n",
        "  losses = train(model, train_loader, n_epochs, optimizer, loss_fn, l2)\r\n",
        "\r\n",
        "  # saving the training time in the specific device\r\n",
        "  t1 = time.time()\r\n",
        "  d['training_time_'+device.type] = t1 - t0\r\n",
        "  print(f'Training time was {t1-t0} using device {device.type}')\r\n",
        "\r\n",
        "  # saving the record of losses\r\n",
        "  d['training_loss'] = losses\r\n",
        "\r\n",
        "  # saving the trained model\r\n",
        "  save_model(model, name)"
      ],
      "execution_count": 29,
      "outputs": [
        {
          "output_type": "stream",
          "text": [
            "Training model baseline\n",
            "2021-03-07 15:28:15.133777 Epoch 0, Training loss 0.8772612751798426\n",
            "2021-03-07 15:29:22.817782 Epoch 9, Training loss 0.513550178548123\n",
            "2021-03-07 15:30:30.907804 Epoch 18, Training loss 0.342084432155528\n",
            "2021-03-07 15:31:37.237504 Epoch 27, Training loss 0.20508500546851058\n",
            "2021-03-07 15:32:43.493743 Epoch 36, Training loss 0.11078760685755852\n",
            "2021-03-07 15:33:49.538105 Epoch 45, Training loss 0.05759668064085727\n",
            "2021-03-07 15:34:55.879172 Epoch 54, Training loss 0.023588695503929828\n",
            "2021-03-07 15:36:02.272035 Epoch 63, Training loss 0.010059318735085903\n",
            "2021-03-07 15:37:08.625934 Epoch 72, Training loss 0.200263873012142\n",
            "2021-03-07 15:38:16.021520 Epoch 81, Training loss 0.004958254216793687\n",
            "2021-03-07 15:39:23.445088 Epoch 90, Training loss 0.00347268319827445\n",
            "2021-03-07 15:40:31.090922 Epoch 99, Training loss 0.0036537619728713912\n",
            "Training time was 743.6872870922089 using device cpu\n",
            "Training model width\n",
            "2021-03-07 15:40:38.569974 Epoch 0, Training loss 0.879145253211894\n",
            "2021-03-07 15:41:46.433452 Epoch 9, Training loss 0.5332077892536813\n",
            "2021-03-07 15:42:54.170527 Epoch 18, Training loss 0.3498407708203539\n",
            "2021-03-07 15:44:01.546142 Epoch 27, Training loss 0.18267552117083935\n",
            "2021-03-07 15:45:09.017152 Epoch 36, Training loss 0.07727411841141417\n",
            "2021-03-07 15:46:16.500527 Epoch 45, Training loss 0.028121852415039183\n",
            "2021-03-07 15:47:24.109121 Epoch 54, Training loss 0.01136165381944243\n",
            "2021-03-07 15:48:31.327895 Epoch 63, Training loss 0.005022199020443603\n",
            "2021-03-07 15:49:39.469374 Epoch 72, Training loss 0.004188880828664975\n",
            "2021-03-07 15:50:48.026968 Epoch 81, Training loss 0.002121651611548472\n",
            "2021-03-07 15:51:56.076662 Epoch 90, Training loss 0.001088399631887714\n",
            "2021-03-07 15:53:04.355061 Epoch 99, Training loss 0.002218206307325671\n",
            "Training time was 753.2603261470795 using device cpu\n",
            "Training model baseline_l2\n",
            "2021-03-07 15:53:12.230847 Epoch 0, Training loss 0.9488850763503541\n",
            "2021-03-07 15:54:22.745429 Epoch 9, Training loss 0.6618412662059703\n",
            "2021-03-07 15:55:33.170297 Epoch 18, Training loss 0.61131157088787\n",
            "2021-03-07 15:56:43.898774 Epoch 27, Training loss 0.5762450121818705\n",
            "2021-03-07 15:57:53.999136 Epoch 36, Training loss 0.5473356726321769\n",
            "2021-03-07 15:59:03.095695 Epoch 45, Training loss 0.5277404952556529\n",
            "2021-03-07 16:00:11.846979 Epoch 54, Training loss 0.5165826803826271\n",
            "2021-03-07 16:01:21.677348 Epoch 63, Training loss 0.5082102855469318\n",
            "2021-03-07 16:02:31.315629 Epoch 72, Training loss 0.4959841331268879\n",
            "2021-03-07 16:03:41.302113 Epoch 81, Training loss 0.4946832965029047\n",
            "2021-03-07 16:04:51.301394 Epoch 90, Training loss 0.49066313213490426\n",
            "2021-03-07 16:06:01.526617 Epoch 99, Training loss 0.48423737350930557\n",
            "Training time was 777.1682343482971 using device cpu\n",
            "Training model dropout\n",
            "2021-03-07 16:06:09.571727 Epoch 0, Training loss 1.0094379318521378\n",
            "2021-03-07 16:07:20.537825 Epoch 9, Training loss 0.8583360994115788\n",
            "2021-03-07 16:08:31.593788 Epoch 18, Training loss 0.8228992101993967\n",
            "2021-03-07 16:09:42.400127 Epoch 27, Training loss 0.8043538879840932\n",
            "2021-03-07 16:10:52.563230 Epoch 36, Training loss 0.7969510461421723\n",
            "2021-03-07 16:12:02.568054 Epoch 45, Training loss 0.7804997408643682\n",
            "2021-03-07 16:13:13.465576 Epoch 54, Training loss 0.772781605796611\n",
            "2021-03-07 16:14:24.197687 Epoch 63, Training loss 0.7715223938860791\n",
            "2021-03-07 16:15:35.454336 Epoch 72, Training loss 0.7632505125187813\n",
            "2021-03-07 16:16:46.840492 Epoch 81, Training loss 0.7610060278405535\n",
            "2021-03-07 16:17:58.577996 Epoch 90, Training loss 0.7553810768939079\n",
            "2021-03-07 16:19:09.704277 Epoch 99, Training loss 0.7533817917742628\n",
            "Training time was 788.1737356185913 using device cpu\n",
            "Training model batch_norm\n",
            "2021-03-07 16:19:21.754048 Epoch 0, Training loss 0.8629079839016529\n",
            "2021-03-07 16:21:09.451269 Epoch 9, Training loss 0.500556371186642\n",
            "2021-03-07 16:22:56.407756 Epoch 18, Training loss 0.3134819725726513\n",
            "2021-03-07 16:24:43.465979 Epoch 27, Training loss 0.18401479591080483\n",
            "2021-03-07 16:26:28.576521 Epoch 36, Training loss 0.10062985463028258\n",
            "2021-03-07 16:28:14.305471 Epoch 45, Training loss 0.05364480863939575\n",
            "2021-03-07 16:30:01.238320 Epoch 54, Training loss 0.039242145165484\n",
            "2021-03-07 16:31:48.016964 Epoch 63, Training loss 0.0402807546601175\n",
            "2021-03-07 16:33:35.870524 Epoch 72, Training loss 0.10696372050554194\n",
            "2021-03-07 16:35:23.326341 Epoch 81, Training loss 0.04139082233936704\n",
            "2021-03-07 16:37:10.730424 Epoch 90, Training loss 0.0037145840231963293\n",
            "2021-03-07 16:38:58.128125 Epoch 99, Training loss 0.0044370671184337206\n",
            "Training time was 1188.4201040267944 using device cpu\n",
            "Training model depth\n",
            "2021-03-07 16:39:12.435620 Epoch 0, Training loss 0.9288537768607444\n",
            "2021-03-07 16:41:21.928435 Epoch 9, Training loss 0.5020908099539736\n",
            "2021-03-07 16:43:32.855232 Epoch 18, Training loss 0.3452798742563167\n",
            "2021-03-07 16:45:41.971878 Epoch 27, Training loss 0.22653962110585354\n",
            "2021-03-07 16:47:49.535846 Epoch 36, Training loss 0.1352312814047996\n",
            "2021-03-07 16:49:57.712113 Epoch 45, Training loss 0.08735479517502988\n",
            "2021-03-07 16:52:04.679258 Epoch 54, Training loss 0.05615510878727791\n",
            "2021-03-07 16:54:09.837001 Epoch 63, Training loss 0.0534832529921798\n",
            "2021-03-07 16:56:16.726518 Epoch 72, Training loss 0.0819410081516872\n",
            "2021-03-07 16:58:26.092199 Epoch 81, Training loss 0.0011356395476700817\n",
            "2021-03-07 17:00:40.694097 Epoch 90, Training loss 0.0003837892299882097\n",
            "2021-03-07 17:03:05.464156 Epoch 99, Training loss 0.00013196638415622069\n",
            "Training time was 1447.3321075439453 using device cpu\n",
            "Training model residual\n",
            "2021-03-07 17:03:20.220908 Epoch 0, Training loss 0.8982684974974774\n",
            "2021-03-07 17:05:32.342450 Epoch 9, Training loss 0.49379313550096876\n",
            "2021-03-07 17:07:41.753100 Epoch 18, Training loss 0.35569865323127586\n",
            "2021-03-07 17:09:52.189734 Epoch 27, Training loss 0.2557963719076299\n",
            "2021-03-07 17:12:04.132462 Epoch 36, Training loss 0.18365953428314089\n",
            "2021-03-07 17:14:16.566116 Epoch 45, Training loss 0.1258350338549056\n",
            "2021-03-07 17:16:29.798535 Epoch 54, Training loss 0.08234777692705393\n",
            "2021-03-07 17:18:44.664003 Epoch 63, Training loss 0.05940904830919301\n",
            "2021-03-07 17:21:04.425926 Epoch 72, Training loss 0.04669197514613575\n",
            "2021-03-07 17:23:24.670003 Epoch 81, Training loss 0.10478020196463517\n",
            "2021-03-07 17:25:43.917540 Epoch 90, Training loss 0.07428488736734429\n",
            "2021-03-07 17:28:02.650941 Epoch 99, Training loss 0.007108034569017114\n",
            "Training time was 1497.182806968689 using device cpu\n",
            "Training model residual_deep\n",
            "2021-03-07 17:28:45.483498 Epoch 0, Training loss 1.0281036734580993\n",
            "2021-03-07 17:35:16.912936 Epoch 9, Training loss 0.5343127917736135\n",
            "2021-03-07 17:41:52.163785 Epoch 18, Training loss 0.4290168291076701\n",
            "2021-03-07 17:48:25.496244 Epoch 27, Training loss 0.34358925140918567\n",
            "2021-03-07 17:55:04.361853 Epoch 36, Training loss 0.27781103044114214\n",
            "2021-03-07 18:01:43.893125 Epoch 45, Training loss 0.2417768659109765\n",
            "2021-03-07 18:08:30.254025 Epoch 54, Training loss 0.21066398541343972\n",
            "2021-03-07 18:15:19.422791 Epoch 63, Training loss 0.18469753100516947\n",
            "2021-03-07 18:22:05.059462 Epoch 72, Training loss 0.15730326203431222\n",
            "2021-03-07 18:28:49.204022 Epoch 81, Training loss 0.16386942302292964\n",
            "2021-03-07 18:35:35.015215 Epoch 90, Training loss 0.16869233294211802\n",
            "2021-03-07 18:42:21.972310 Epoch 99, Training loss 0.14114636835107144\n",
            "Training time was 4459.316923379898 using device cpu\n"
          ],
          "name": "stdout"
        }
      ]
    },
    {
      "cell_type": "markdown",
      "metadata": {
        "id": "nzEMFQwLR7eI"
      },
      "source": [
        "Now we are going to plot the results."
      ]
    },
    {
      "cell_type": "code",
      "metadata": {
        "colab": {
          "base_uri": "https://localhost:8080/",
          "height": 610
        },
        "id": "iN8oYX4Hsp83",
        "outputId": "f74201d1-c863-4f6f-9d54-0a7dd5c411af"
      },
      "source": [
        "gpu_time = [d['training_time_cuda'] for _, d in models.items()]\r\n",
        "cpu_time = [d['training_time_cpu'] for _, d in models.items()]\r\n",
        "\r\n",
        "x = np.arange(len(models))\r\n",
        "width = 0.4\r\n",
        "\r\n",
        "fig, ax = plt.subplots(figsize=(10,10))\r\n",
        "ax.bar(x-width/2, gpu_time, width, label='GPU')\r\n",
        "ax.bar(x+width/2, cpu_time, width, label='CPU')\r\n",
        "\r\n",
        "# no idea why I have to add an empty label at the beggining\r\n",
        "# but if I dont do it the lables are shifted\r\n",
        "ax.set_xticklabels([''] + list(models.keys()))\r\n",
        "ax.legend()\r\n",
        "ax.set_ylabel('Training time')"
      ],
      "execution_count": 31,
      "outputs": [
        {
          "output_type": "execute_result",
          "data": {
            "text/plain": [
              "Text(0, 0.5, 'Training time')"
            ]
          },
          "metadata": {
            "tags": []
          },
          "execution_count": 31
        },
        {
          "output_type": "display_data",
          "data": {
            "image/png": "[encoded data removed]",
            "text/plain": [
              "<Figure size 720x720 with 1 Axes>"
            ]
          },
          "metadata": {
            "tags": [],
            "needs_background": "light"
          }
        }
      ]
    },
    {
      "cell_type": "code",
      "metadata": {
        "colab": {
          "base_uri": "https://localhost:8080/"
        },
        "id": "xRzkJtSEAFUY",
        "outputId": "b148d669-6cca-4ad2-ad72-6ac761e6ea4d"
      },
      "source": [
        "from prettytable import PrettyTable\r\n",
        "\r\n",
        "x = PrettyTable()\r\n",
        "\r\n",
        "x.field_names = [\"Model\", \"GPU training time\", \"CPU training time\", \"Relation\"]\r\n",
        "for name, d in models.items():\r\n",
        "  x.add_row([name, d['training_time_cuda'], d['training_time_cpu'], int(d['training_time_cpu']/d['training_time_cuda'])])\r\n",
        "print(x)"
      ],
      "execution_count": 42,
      "outputs": [
        {
          "output_type": "stream",
          "text": [
            "+---------------+--------------------+--------------------+----------+\n",
            "|     Model     | GPU training time  | CPU training time  | Relation |\n",
            "+---------------+--------------------+--------------------+----------+\n",
            "|    baseline   | 78.98348093032837  | 743.6872870922089  |    9     |\n",
            "|     width     |  68.3667163848877  | 753.2603261470795  |    11    |\n",
            "|  baseline_l2  |  92.534095287323   | 777.1682343482971  |    8     |\n",
            "|    dropout    | 72.31229734420776  | 788.1737356185913  |    10    |\n",
            "|   batch_norm  | 85.10662031173706  | 1188.4201040267944 |    13    |\n",
            "|     depth     |  79.5290699005127  | 1447.3321075439453 |    18    |\n",
            "|    residual   | 80.53588080406189  | 1497.182806968689  |    18    |\n",
            "| residual_deep | 167.56456112861633 | 4459.316923379898  |    26    |\n",
            "+---------------+--------------------+--------------------+----------+\n"
          ],
          "name": "stdout"
        }
      ]
    },
    {
      "cell_type": "markdown",
      "metadata": {
        "id": "7_7zbb8JRyCn"
      },
      "source": [
        "From these plots we can see that to train with a GPU is around 10 times faster than to use just the CPU, this is due to the ability to parallelize execution that PyTorch and a GPU bring together."
      ]
    }
  ]
}