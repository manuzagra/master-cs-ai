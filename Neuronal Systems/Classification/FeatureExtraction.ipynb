{
  "nbformat": 4,
  "nbformat_minor": 0,
  "metadata": {
    "colab": {
      "name": "FeatureExtraction.ipynb",
      "provenance": [],
      "collapsed_sections": []
    },
    "kernelspec": {
      "name": "python3",
      "display_name": "Python 3"
    },
    "accelerator": "GPU"
  },
  "cells": [
    {
      "cell_type": "markdown",
      "metadata": {
        "id": "ZrQzSdyloSU2"
      },
      "source": [
        "# **CNN Feature Extraction for Image Classification**\r\n",
        "\r\n",
        "In this exercise, we will extract significant features from images with a CNN, and then we will use those features to classify the images with several standard machine learning classifiers."
      ]
    },
    {
      "cell_type": "markdown",
      "metadata": {
        "id": "-sY150ufojoX"
      },
      "source": [
        "Load the libraries, set the graphics to be plotted within the Jupyter notebook and fix the random seed to ensure the reproducibility of the results"
      ]
    },
    {
      "cell_type": "code",
      "metadata": {
        "id": "U9gcqL8Mok1t"
      },
      "source": [
        "%matplotlib inline\r\n",
        "import os\r\n",
        "import time\r\n",
        "import datetime\r\n",
        "import collections\r\n",
        "\r\n",
        "from matplotlib import pyplot as plt\r\n",
        "import numpy as np\r\n",
        "\r\n",
        "import torch\r\n",
        "import torch.nn as nn\r\n",
        "import torch.nn.functional as F\r\n",
        "import torch.optim as optim\r\n",
        "\r\n",
        "from torchvision import models\r\n",
        "from torchvision import datasets, transforms\r\n",
        "\r\n",
        "torch.set_printoptions(edgeitems=2)\r\n",
        "torch.manual_seed(123)\r\n",
        "\r\n",
        "from sklearn.naive_bayes import GaussianNB\r\n",
        "from sklearn.neighbors import KNeighborsClassifier\r\n",
        "from sklearn.tree import DecisionTreeClassifier\r\n",
        "from sklearn.discriminant_analysis import QuadraticDiscriminantAnalysis"
      ],
      "execution_count": 1,
      "outputs": []
    },
    {
      "cell_type": "markdown",
      "metadata": {
        "id": "dzAg_BRaF8pS"
      },
      "source": [
        "We need to define the device where we are going to work. If a GPU is available we will always try to use it."
      ]
    },
    {
      "cell_type": "code",
      "metadata": {
        "id": "6ziM78YoFkJj"
      },
      "source": [
        "# the device where to execute\r\n",
        "device = (torch.device('cuda') if torch.cuda.is_available() else torch.device('cpu'))"
      ],
      "execution_count": 2,
      "outputs": []
    },
    {
      "cell_type": "markdown",
      "metadata": {
        "id": "HVRNckcaopW9"
      },
      "source": [
        "## **Data**\r\n",
        "\r\n",
        "Establish the 10 classes that are available in the CIFAR10 dataset, see https://www.cs.toronto.edu/~kriz/cifar.html"
      ]
    },
    {
      "cell_type": "code",
      "metadata": {
        "id": "oXT07DlhoqGF"
      },
      "source": [
        "class_names = ['airplane','automobile','bird','cat','deer', 'dog','frog','horse','ship','truck']"
      ],
      "execution_count": 3,
      "outputs": []
    },
    {
      "cell_type": "markdown",
      "metadata": {
        "id": "chwnKYdRovgc"
      },
      "source": [
        "Download the training data for the CIFAR10 dataset, upzip it to the virtual folder ../data-unversioned/p1ch6/ and store it as the `cifar10` variable"
      ]
    },
    {
      "cell_type": "code",
      "metadata": {
        "colab": {
          "base_uri": "https://localhost:8080/"
        },
        "id": "YH729IQVox0k",
        "outputId": "8832e6d2-1811-46ab-b1b7-78276fde709c"
      },
      "source": [
        "data_path = '../data-unversioned/p1ch6/'\r\n",
        "cifar10 = datasets.CIFAR10(\r\n",
        "    data_path,\r\n",
        "    train=True,\r\n",
        "    download=True,\r\n",
        "    transform=transforms.Compose(\r\n",
        "        [transforms.ToTensor(),\r\n",
        "         transforms.Normalize((0.4915, 0.4823, 0.4468),\r\n",
        "                              (0.2470, 0.2435, 0.2616))]\r\n",
        "                              )\r\n",
        "    )"
      ],
      "execution_count": 4,
      "outputs": [
        {
          "output_type": "stream",
          "text": [
            "Files already downloaded and verified\n"
          ],
          "name": "stdout"
        }
      ]
    },
    {
      "cell_type": "markdown",
      "metadata": {
        "id": "mBEXsOiXo2Nl"
      },
      "source": [
        "Download the validation data for the CIFAR10 dataset, upzip it to the virtual folder ../data-unversioned/p1ch6/ and store it as the `cifar10_val` variable"
      ]
    },
    {
      "cell_type": "code",
      "metadata": {
        "colab": {
          "base_uri": "https://localhost:8080/"
        },
        "id": "b6kD1rAIo2CF",
        "outputId": "ac368ac8-c707-434b-fba9-567844ec2657"
      },
      "source": [
        "cifar10_val = datasets.CIFAR10(\r\n",
        "    data_path,\r\n",
        "    train=False,\r\n",
        "    download=True,\r\n",
        "    transform=transforms.Compose(\r\n",
        "        [transforms.ToTensor(),\r\n",
        "         transforms.Normalize((0.4915, 0.4823, 0.4468),\r\n",
        "                              (0.2470, 0.2435, 0.2616))]\r\n",
        "                              )\r\n",
        "    )"
      ],
      "execution_count": 5,
      "outputs": [
        {
          "output_type": "stream",
          "text": [
            "Files already downloaded and verified\n"
          ],
          "name": "stdout"
        }
      ]
    },
    {
      "cell_type": "markdown",
      "metadata": {
        "id": "Ue8h2Nzpo9hF"
      },
      "source": [
        "Select the classes that the CNN will classify, namely the **cat** (index 3), the **dog** (index 5) and **horse** (index 7) classes\r\n",
        "\r\n",
        "Then extract a subset of the full training CIFAR10 dataset which contains the training samples of those three classes into the `cifar3` variable, and a subset of the full validation CIFAR10 dataset with the validation samples of these three classes into the `cifar3_val` variable"
      ]
    },
    {
      "cell_type": "code",
      "metadata": {
        "id": "MrXrkF4Mo9F9"
      },
      "source": [
        "# classes we are going to use\r\n",
        "class_names = ['cat', 'dog', 'horse']\r\n",
        "# map from old labels to new labels\r\n",
        "label_map = {3: 0, 5: 1, 7: 2}\r\n",
        "# get only the classes we want and relabel them\r\n",
        "cifar3 = [(img, label_map[label]) for img, label in cifar10 if label in label_map]\r\n",
        "cifar3_val = [(img, label_map[label]) for img, label in cifar10_val if label in label_map]"
      ],
      "execution_count": 6,
      "outputs": []
    },
    {
      "cell_type": "markdown",
      "metadata": {
        "id": "FUHyPQObpFIc"
      },
      "source": [
        "Now lets see some examples of the subset we just created."
      ]
    },
    {
      "cell_type": "code",
      "metadata": {
        "colab": {
          "base_uri": "https://localhost:8080/",
          "height": 865
        },
        "id": "8karpPb6pFpN",
        "outputId": "cef62dfc-cb91-4f94-f3ca-9f08ae5c5883"
      },
      "source": [
        "fig, axs = plt.subplots(nrows=2, ncols=3, figsize=(15,15))\r\n",
        "for i in range(6):\r\n",
        "  sample = cifar3[np.random.randint(len(cifar3))]\r\n",
        "  axs[int(i/3), i%3].imshow(np.transpose(sample[0].numpy(),(1, 2, 0)))\r\n",
        "  axs[int(i/3), i%3].set_title(class_names[sample[1]])"
      ],
      "execution_count": 7,
      "outputs": [
        {
          "output_type": "stream",
          "text": [
            "Clipping input data to the valid range for imshow with RGB data ([0..1] for floats or [0..255] for integers).\n",
            "Clipping input data to the valid range for imshow with RGB data ([0..1] for floats or [0..255] for integers).\n",
            "Clipping input data to the valid range for imshow with RGB data ([0..1] for floats or [0..255] for integers).\n",
            "Clipping input data to the valid range for imshow with RGB data ([0..1] for floats or [0..255] for integers).\n",
            "Clipping input data to the valid range for imshow with RGB data ([0..1] for floats or [0..255] for integers).\n",
            "Clipping input data to the valid range for imshow with RGB data ([0..1] for floats or [0..255] for integers).\n"
          ],
          "name": "stderr"
        },
        {
          "output_type": "display_data",
          "data": {
            "image/png": "[encoded data removed]",
            "text/plain": [
              "<Figure size 1080x1080 with 6 Axes>"
            ]
          },
          "metadata": {
            "tags": [],
            "needs_background": "light"
          }
        }
      ]
    },
    {
      "cell_type": "markdown",
      "metadata": {
        "id": "zLiTf2vLpLjU"
      },
      "source": [
        "Finally we are going to create the data loaders that will help us in the training phase. The difference between the training loader and the calidation one, apart from the data they contain, is that the validation one should not be shuffled."
      ]
    },
    {
      "cell_type": "code",
      "metadata": {
        "id": "DUx_G-NMpMWt"
      },
      "source": [
        "train_loader = torch.utils.data.DataLoader(cifar3, batch_size=64, shuffle=True)\r\n",
        "val_loader = torch.utils.data.DataLoader(cifar3_val, batch_size=64, shuffle=False)"
      ],
      "execution_count": 8,
      "outputs": []
    },
    {
      "cell_type": "markdown",
      "metadata": {
        "id": "OQCcRwhxqxec"
      },
      "source": [
        "## **VGG16**\r\n",
        "\r\n",
        "In this section we are going to download the trained VGG16 and drop the classifier from the end, the fully connected layers at the end of the model.\r\n",
        "\r\n",
        "First we need to download the VGG16."
      ]
    },
    {
      "cell_type": "code",
      "metadata": {
        "colab": {
          "base_uri": "https://localhost:8080/"
        },
        "id": "i35_j6JfrGIk",
        "outputId": "a69e20ab-2dda-4064-99b5-19bf753ed9f1"
      },
      "source": [
        "vgg16 = models.vgg16(pretrained=True)\r\n",
        "print(vgg16)"
      ],
      "execution_count": 9,
      "outputs": [
        {
          "output_type": "stream",
          "text": [
            "VGG(\n",
            "  (features): Sequential(\n",
            "    (0): Conv2d(3, 64, kernel_size=(3, 3), stride=(1, 1), padding=(1, 1))\n",
            "    (1): ReLU(inplace=True)\n",
            "    (2): Conv2d(64, 64, kernel_size=(3, 3), stride=(1, 1), padding=(1, 1))\n",
            "    (3): ReLU(inplace=True)\n",
            "    (4): MaxPool2d(kernel_size=2, stride=2, padding=0, dilation=1, ceil_mode=False)\n",
            "    (5): Conv2d(64, 128, kernel_size=(3, 3), stride=(1, 1), padding=(1, 1))\n",
            "    (6): ReLU(inplace=True)\n",
            "    (7): Conv2d(128, 128, kernel_size=(3, 3), stride=(1, 1), padding=(1, 1))\n",
            "    (8): ReLU(inplace=True)\n",
            "    (9): MaxPool2d(kernel_size=2, stride=2, padding=0, dilation=1, ceil_mode=False)\n",
            "    (10): Conv2d(128, 256, kernel_size=(3, 3), stride=(1, 1), padding=(1, 1))\n",
            "    (11): ReLU(inplace=True)\n",
            "    (12): Conv2d(256, 256, kernel_size=(3, 3), stride=(1, 1), padding=(1, 1))\n",
            "    (13): ReLU(inplace=True)\n",
            "    (14): Conv2d(256, 256, kernel_size=(3, 3), stride=(1, 1), padding=(1, 1))\n",
            "    (15): ReLU(inplace=True)\n",
            "    (16): MaxPool2d(kernel_size=2, stride=2, padding=0, dilation=1, ceil_mode=False)\n",
            "    (17): Conv2d(256, 512, kernel_size=(3, 3), stride=(1, 1), padding=(1, 1))\n",
            "    (18): ReLU(inplace=True)\n",
            "    (19): Conv2d(512, 512, kernel_size=(3, 3), stride=(1, 1), padding=(1, 1))\n",
            "    (20): ReLU(inplace=True)\n",
            "    (21): Conv2d(512, 512, kernel_size=(3, 3), stride=(1, 1), padding=(1, 1))\n",
            "    (22): ReLU(inplace=True)\n",
            "    (23): MaxPool2d(kernel_size=2, stride=2, padding=0, dilation=1, ceil_mode=False)\n",
            "    (24): Conv2d(512, 512, kernel_size=(3, 3), stride=(1, 1), padding=(1, 1))\n",
            "    (25): ReLU(inplace=True)\n",
            "    (26): Conv2d(512, 512, kernel_size=(3, 3), stride=(1, 1), padding=(1, 1))\n",
            "    (27): ReLU(inplace=True)\n",
            "    (28): Conv2d(512, 512, kernel_size=(3, 3), stride=(1, 1), padding=(1, 1))\n",
            "    (29): ReLU(inplace=True)\n",
            "    (30): MaxPool2d(kernel_size=2, stride=2, padding=0, dilation=1, ceil_mode=False)\n",
            "  )\n",
            "  (avgpool): AdaptiveAvgPool2d(output_size=(7, 7))\n",
            "  (classifier): Sequential(\n",
            "    (0): Linear(in_features=25088, out_features=4096, bias=True)\n",
            "    (1): ReLU(inplace=True)\n",
            "    (2): Dropout(p=0.5, inplace=False)\n",
            "    (3): Linear(in_features=4096, out_features=4096, bias=True)\n",
            "    (4): ReLU(inplace=True)\n",
            "    (5): Dropout(p=0.5, inplace=False)\n",
            "    (6): Linear(in_features=4096, out_features=1000, bias=True)\n",
            "  )\n",
            ")\n"
          ],
          "name": "stdout"
        }
      ]
    },
    {
      "cell_type": "markdown",
      "metadata": {
        "id": "7JX6mb1dtUqy"
      },
      "source": [
        "Now we are going to create our own features extractors using the trained convolutional layers of the VGG16. For that we will discard some parts of the model and cut it just after some of the convolutional layers."
      ]
    },
    {
      "cell_type": "code",
      "metadata": {
        "id": "-XqgFpQttl8B"
      },
      "source": [
        "class VGG16_sub(nn.Module):\r\n",
        "  def __init__(self, layers=29):\r\n",
        "    super().__init__()\r\n",
        "    self.features = nn.Sequential(*list(vgg16.features.children())[:layers])\r\n",
        "\r\n",
        "  def forward(self, x):\r\n",
        "    out = self.features(x)\r\n",
        "    return out.detach().cpu().flatten(1).numpy()\r\n",
        "\r\n",
        "feat_extractors = {}\r\n",
        "for i in [11, 15, 20, 25, 29]:\r\n",
        "  feat_extractors[i] = VGG16_sub(i).to(device)"
      ],
      "execution_count": 10,
      "outputs": []
    },
    {
      "cell_type": "markdown",
      "metadata": {
        "id": "eGtsh5Dzydsw"
      },
      "source": [
        "## **Features**\r\n",
        "\r\n",
        "Lets pass through the features extractors an image to see the number of features we will get at the end."
      ]
    },
    {
      "cell_type": "code",
      "metadata": {
        "colab": {
          "base_uri": "https://localhost:8080/"
        },
        "id": "xHRLRXJuIgHH",
        "outputId": "4364a8e2-c27c-4a0b-ca37-2e5e26bc017d"
      },
      "source": [
        "# get the first image of the dataset\r\n",
        "img, _ = cifar3[0]\r\n",
        "\r\n",
        "# we will sabve it in here\r\n",
        "n_feat = {}\r\n",
        "\r\n",
        "for name, fe in feat_extractors.items():\r\n",
        "  # forward\r\n",
        "  output = fe(img.unsqueeze(0).to(device)).shape\r\n",
        "  # save\r\n",
        "  n_feat[name] = output[1]\r\n",
        "print(n_feat)"
      ],
      "execution_count": 11,
      "outputs": [
        {
          "output_type": "stream",
          "text": [
            "{11: 16384, 15: 16384, 20: 8192, 25: 2048, 29: 2048}\n"
          ],
          "name": "stdout"
        }
      ]
    },
    {
      "cell_type": "markdown",
      "metadata": {
        "id": "enUHe49AIgf-"
      },
      "source": [
        "\r\n",
        "We need to preprocess all the data to extract the features for each image in out datasets (training and validation)."
      ]
    },
    {
      "cell_type": "code",
      "metadata": {
        "id": "MeAabD1w25Lj"
      },
      "source": [
        "def extract_features(model, dataloader):\r\n",
        "  model.to(device)\r\n",
        "  # get the number of features\r\n",
        "  n_features = model(dataloader.dataset[0][0].unsqueeze(0).to(device)).shape[1]\r\n",
        "\r\n",
        "  # create the containers\r\n",
        "  X = np.zeros((0, n_features))\r\n",
        "  y = np.zeros((0))\r\n",
        "\r\n",
        "  for imgs, labels in dataloader:\r\n",
        "    # move the images and labels to the device\r\n",
        "    imgs = imgs.to(device)\r\n",
        "    # extract features\r\n",
        "    outputs = model(imgs)\r\n",
        "    # create the final arrays of features and labels\r\n",
        "    X = np.concatenate((X,outputs))\r\n",
        "    y = np.concatenate((y, labels))\r\n",
        "\r\n",
        "  return X, y"
      ],
      "execution_count": 12,
      "outputs": []
    },
    {
      "cell_type": "markdown",
      "metadata": {
        "id": "GNGj5TVg_XXO"
      },
      "source": [
        "## **Train**\r\n",
        "\r\n",
        "Now we will extract teh features with every one of the features extractors and train some traditional classifiers, then we will compare their performance."
      ]
    },
    {
      "cell_type": "code",
      "metadata": {
        "colab": {
          "base_uri": "https://localhost:8080/"
        },
        "id": "eiG3eu5R_Xxt",
        "outputId": "fafd5e93-5c86-4432-f399-5b451318f0b4"
      },
      "source": [
        "data = {}\r\n",
        "\r\n",
        "for name, fe in feat_extractors.items():\r\n",
        "  print('----------------------------')\r\n",
        "  print(f'{datetime.datetime.isoformat(datetime.datetime.now())} - Features extractor: {name}')\r\n",
        "  # prepare a dict for the data\r\n",
        "  data[name] = {}\r\n",
        "  \r\n",
        "  # lets copy here the number of features\r\n",
        "  data[name]['n_features'] = n_feat[name]\r\n",
        "\r\n",
        "  # extrac features for the training and validation datasets\r\n",
        "  X_train, y_train = extract_features(fe, val_loader)\r\n",
        "  X_val, y_val = extract_features(fe, val_loader)\r\n",
        "\r\n",
        "  # the list of classifiers we will use\r\n",
        "  classifiers = [GaussianNB(), KNeighborsClassifier(), DecisionTreeClassifier(), QuadraticDiscriminantAnalysis()]\r\n",
        "\r\n",
        "  # train the different models and evaluate them in both training and evaluation datasets\r\n",
        "  for cl in classifiers:\r\n",
        "    print(f'{datetime.datetime.isoformat(datetime.datetime.now())} - Classifier: {cl.__class__.__name__}')\r\n",
        "    # to save the data\r\n",
        "    data[name][cl.__class__.__name__] = {}\r\n",
        "    # train the model\r\n",
        "    cl.fit(X_train, y_train)\r\n",
        "    # evaluate\r\n",
        "    data[name][cl.__class__.__name__]['train_score'] = cl.score(X_train,y_train)\r\n",
        "    data[name][cl.__class__.__name__]['val_score'] = cl.score(X_val,y_val)\r\n",
        "    print(data[name][cl.__class__.__name__])"
      ],
      "execution_count": 15,
      "outputs": [
        {
          "output_type": "stream",
          "text": [
            "----------------------------\n",
            "2021-03-07T19:48:48.586695 - Features extractor: 11\n",
            "2021-03-07T19:48:53.308750 - Classifier: GaussianNB\n",
            "{'train_score': 0.7263333333333334, 'val_score': 0.7263333333333334}\n",
            "2021-03-07T19:48:55.237907 - Classifier: KNeighborsClassifier\n",
            "{'train_score': 0.7953333333333333, 'val_score': 0.7953333333333333}\n",
            "2021-03-07T19:58:30.745592 - Classifier: DecisionTreeClassifier\n",
            "{'train_score': 1.0, 'val_score': 1.0}\n",
            "2021-03-07T19:59:25.414301 - Classifier: QuadraticDiscriminantAnalysis\n"
          ],
          "name": "stdout"
        },
        {
          "output_type": "stream",
          "text": [
            "/usr/local/lib/python3.7/dist-packages/sklearn/discriminant_analysis.py:691: UserWarning: Variables are collinear\n",
            "  warnings.warn(\"Variables are collinear\")\n"
          ],
          "name": "stderr"
        },
        {
          "output_type": "stream",
          "text": [
            "{'train_score': 1.0, 'val_score': 1.0}\n",
            "----------------------------\n",
            "2021-03-07T19:59:58.399203 - Features extractor: 15\n",
            "2021-03-07T20:00:03.178259 - Classifier: GaussianNB\n",
            "{'train_score': 0.7686666666666667, 'val_score': 0.7686666666666667}\n",
            "2021-03-07T20:00:05.130105 - Classifier: KNeighborsClassifier\n",
            "{'train_score': 0.8213333333333334, 'val_score': 0.8213333333333334}\n",
            "2021-03-07T20:09:39.537581 - Classifier: DecisionTreeClassifier\n",
            "{'train_score': 1.0, 'val_score': 1.0}\n",
            "2021-03-07T20:10:30.301884 - Classifier: QuadraticDiscriminantAnalysis\n"
          ],
          "name": "stdout"
        },
        {
          "output_type": "stream",
          "text": [
            "/usr/local/lib/python3.7/dist-packages/sklearn/discriminant_analysis.py:691: UserWarning: Variables are collinear\n",
            "  warnings.warn(\"Variables are collinear\")\n"
          ],
          "name": "stderr"
        },
        {
          "output_type": "stream",
          "text": [
            "{'train_score': 1.0, 'val_score': 1.0}\n",
            "----------------------------\n",
            "2021-03-07T20:11:02.507218 - Features extractor: 20\n",
            "2021-03-07T20:11:05.486672 - Classifier: GaussianNB\n",
            "{'train_score': 0.7106666666666667, 'val_score': 0.7106666666666667}\n",
            "2021-03-07T20:11:06.416456 - Classifier: KNeighborsClassifier\n",
            "{'train_score': 0.8523333333333334, 'val_score': 0.8523333333333334}\n",
            "2021-03-07T20:15:53.193200 - Classifier: DecisionTreeClassifier\n",
            "{'train_score': 1.0, 'val_score': 1.0}\n",
            "2021-03-07T20:16:27.270684 - Classifier: QuadraticDiscriminantAnalysis\n"
          ],
          "name": "stdout"
        },
        {
          "output_type": "stream",
          "text": [
            "/usr/local/lib/python3.7/dist-packages/sklearn/discriminant_analysis.py:691: UserWarning: Variables are collinear\n",
            "  warnings.warn(\"Variables are collinear\")\n"
          ],
          "name": "stderr"
        },
        {
          "output_type": "stream",
          "text": [
            "{'train_score': 1.0, 'val_score': 1.0}\n",
            "----------------------------\n",
            "2021-03-07T20:16:43.649855 - Features extractor: 25\n",
            "2021-03-07T20:16:45.323013 - Classifier: GaussianNB\n",
            "{'train_score': 0.6946666666666667, 'val_score': 0.6946666666666667}\n",
            "2021-03-07T20:16:45.574882 - Classifier: KNeighborsClassifier\n",
            "{'train_score': 0.8283333333333334, 'val_score': 0.8283333333333334}\n",
            "2021-03-07T20:17:56.440182 - Classifier: DecisionTreeClassifier\n",
            "{'train_score': 1.0, 'val_score': 1.0}\n",
            "2021-03-07T20:18:03.416333 - Classifier: QuadraticDiscriminantAnalysis\n"
          ],
          "name": "stdout"
        },
        {
          "output_type": "stream",
          "text": [
            "/usr/local/lib/python3.7/dist-packages/sklearn/discriminant_analysis.py:691: UserWarning: Variables are collinear\n",
            "  warnings.warn(\"Variables are collinear\")\n"
          ],
          "name": "stderr"
        },
        {
          "output_type": "stream",
          "text": [
            "{'train_score': 1.0, 'val_score': 1.0}\n",
            "----------------------------\n",
            "2021-03-07T20:18:08.630047 - Features extractor: 29\n",
            "2021-03-07T20:18:10.573017 - Classifier: GaussianNB\n",
            "{'train_score': 0.6516666666666666, 'val_score': 0.6516666666666666}\n",
            "2021-03-07T20:18:10.822400 - Classifier: KNeighborsClassifier\n",
            "{'train_score': 0.8013333333333333, 'val_score': 0.8013333333333333}\n",
            "2021-03-07T20:19:21.561018 - Classifier: DecisionTreeClassifier\n",
            "{'train_score': 1.0, 'val_score': 1.0}\n",
            "2021-03-07T20:19:28.993500 - Classifier: QuadraticDiscriminantAnalysis\n"
          ],
          "name": "stdout"
        },
        {
          "output_type": "stream",
          "text": [
            "/usr/local/lib/python3.7/dist-packages/sklearn/discriminant_analysis.py:691: UserWarning: Variables are collinear\n",
            "  warnings.warn(\"Variables are collinear\")\n"
          ],
          "name": "stderr"
        },
        {
          "output_type": "stream",
          "text": [
            "{'train_score': 1.0, 'val_score': 1.0}\n"
          ],
          "name": "stdout"
        }
      ]
    },
    {
      "cell_type": "markdown",
      "metadata": {
        "id": "bE-bCeXMMRVE"
      },
      "source": [
        "20:42\r\n",
        "\r\n",
        "## **Results**\r\n",
        "\r\n",
        "The table below shows teh values of evaluating each model in the training and the validation datasets. Those values are shown for the models trained with the features extracted with different depth of the VGG16 model.\r\n",
        "\r\n",
        "Note: The two values are (training score, validation score)."
      ]
    },
    {
      "cell_type": "code",
      "metadata": {
        "colab": {
          "base_uri": "https://localhost:8080/"
        },
        "id": "Ke-nZK6qOpWS",
        "outputId": "780e1901-42c8-47a1-d431-ef35634983cb"
      },
      "source": [
        "from prettytable import PrettyTable\r\n",
        "\r\n",
        "table = PrettyTable()\r\n",
        "\r\n",
        "table.field_names = ['Feat Extractor/Classifier'] + [i.__class__.__name__ for i in classifiers]\r\n",
        "\r\n",
        "for name, info in data.items():\r\n",
        "  scores = [(round(v['train_score'], 2), round(v['val_score'],2)) for k,v in info.items() if isinstance(v, dict)]\r\n",
        "  table.add_row(['{} - {} feat'.format(name, info['n_features'])] + scores)\r\n",
        "\r\n",
        "print(table)"
      ],
      "execution_count": 26,
      "outputs": [
        {
          "output_type": "stream",
          "text": [
            "+---------------------------+--------------+----------------------+------------------------+-------------------------------+\n",
            "| Feat Extractor/Classifier |  GaussianNB  | KNeighborsClassifier | DecisionTreeClassifier | QuadraticDiscriminantAnalysis |\n",
            "+---------------------------+--------------+----------------------+------------------------+-------------------------------+\n",
            "|      11 - 16384 feat      | (0.73, 0.73) |      (0.8, 0.8)      |       (1.0, 1.0)       |           (1.0, 1.0)          |\n",
            "|      15 - 16384 feat      | (0.77, 0.77) |     (0.82, 0.82)     |       (1.0, 1.0)       |           (1.0, 1.0)          |\n",
            "|       20 - 8192 feat      | (0.71, 0.71) |     (0.85, 0.85)     |       (1.0, 1.0)       |           (1.0, 1.0)          |\n",
            "|       25 - 2048 feat      | (0.69, 0.69) |     (0.83, 0.83)     |       (1.0, 1.0)       |           (1.0, 1.0)          |\n",
            "|       29 - 2048 feat      | (0.65, 0.65) |      (0.8, 0.8)      |       (1.0, 1.0)       |           (1.0, 1.0)          |\n",
            "+---------------------------+--------------+----------------------+------------------------+-------------------------------+\n"
          ],
          "name": "stdout"
        }
      ]
    },
    {
      "cell_type": "markdown",
      "metadata": {
        "id": "DzwrjtPeXait"
      },
      "source": [
        "A couple of classifiers (DecisionTreeClassifier and QuadraticDiscriminantAnalysis) obtain very good results with independence of the nmber of features and if they are high level or low level. \r\n",
        "\r\n",
        "The other two classifiers obtains better performance when the features are extracted from the middle of the VGG16, in the 15th and 20th layers. That means that they perform the best when the features are nor really high level or really low level.\r\n",
        "\r\n",
        "Another thing to notice is the training time. Obviously the number of features drives the time to train the models but in the special case of the KNeighborsClassifier the time grows exponentially which may be critical if we have to decide the number of features or the algorithm we want to use to classify."
      ]
    },
    {
      "cell_type": "code",
      "metadata": {
        "id": "-BgpmjBcaLED"
      },
      "source": [
        ""
      ],
      "execution_count": null,
      "outputs": []
    }
  ]
}